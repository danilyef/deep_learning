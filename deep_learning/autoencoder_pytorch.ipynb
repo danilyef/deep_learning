{
 "cells": [
  {
   "cell_type": "markdown",
   "metadata": {},
   "source": [
    "# Auto-Encoders and Undoing Convolutions"
   ]
  },
  {
   "cell_type": "markdown",
   "metadata": {},
   "source": [
    "In this notebook, we will tackle the topic of auto-encoders,\n",
    "a simple trick to use neural networks for unsupervised learning.\n",
    "Whereas auto-encoders with fully connected layers are pretty simple,\n",
    "new types of layers are necessary to build convolutional auto-encoders.\n",
    "The most important of these new layers is the transposed convolution,\n",
    "which is often confusingly referred to as a deconvolution."
   ]
  },
  {
   "cell_type": "code",
   "execution_count": 1,
   "metadata": {
    "pycharm": {
     "name": "#%%\n"
    }
   },
   "outputs": [
    {
     "name": "stdout",
     "output_type": "stream",
     "text": [
      "cpu\n",
      "Python version: 3.9.12\n",
      "Pytorch version: 1.13.0\n",
      "torchvision version: 0.14.0\n"
     ]
    },
    {
     "name": "stderr",
     "output_type": "stream",
     "text": [
      "/var/folders/yn/55hr75q51119y7clshplydwm0000gn/T/ipykernel_42097/1022249172.py:14: DeprecationWarning: Importing display from IPython.core.display is deprecated since IPython 7.14, please import from IPython display\n",
      "  from IPython.core.display import display\n"
     ]
    }
   ],
   "source": [
    "import os.path\n",
    "\n",
    "import torch\n",
    "from torch import nn\n",
    "from torch import optim\n",
    "from torch.utils.data import DataLoader\n",
    "from torchvision import transforms\n",
    "from torchvision import datasets\n",
    "from torchvision import models\n",
    "import torchvision\n",
    "\n",
    "\n",
    "from PIL import Image\n",
    "from IPython.core.display import display\n",
    "from torchvision.transforms.functional import to_pil_image\n",
    "from torch.nn.functional import max_unpool2d, conv_transpose2d\n",
    "\n",
    "torch.manual_seed(1806)\n",
    "torch.cuda.manual_seed(1806)\n",
    "device = 'cuda' if torch.cuda.is_available() else 'cpu'\n",
    "print(device)\n",
    "\n",
    "\n",
    "print('Python version: 3.9.12')\n",
    "print('Pytorch version:', torch.__version__)\n",
    "print('torchvision version:', torchvision.__version__)"
   ]
  },
  {
   "cell_type": "code",
   "execution_count": 2,
   "metadata": {
    "pycharm": {
     "name": "#%%\n"
    }
   },
   "outputs": [],
   "source": [
    "class AutoMNIST(datasets.MNIST):\n",
    "    \"\"\" Wrapper around MNIST for training auto-encoders. \"\"\"\n",
    "    \n",
    "    def __getitem__(self, index):\n",
    "        x = self.data[index].numpy()\n",
    "        img = Image.fromarray(x, mode='L')\n",
    "        target = Image.fromarray(x, mode='L')\n",
    "\n",
    "        if self.transform is not None:\n",
    "            img = self.transform(img)\n",
    "\n",
    "        if self.target_transform is not None:\n",
    "            target = self.target_transform(target)\n",
    "\n",
    "        return img, target\n",
    "\n",
    "    @property\n",
    "    def raw_folder(self):\n",
    "        return os.path.join(self.root, 'MNIST', 'raw')\n",
    "\n",
    "    @property\n",
    "    def processed_folder(self):\n",
    "        return os.path.join(self.root, 'MNIST', 'processed')\n",
    "\n",
    "\n",
    "def get_auto_mnist_loader(train: bool = True, flat: bool = False, \n",
    "                          raw_targets: bool = False, **kwargs) -> DataLoader:\n",
    "    \"\"\"\n",
    "    Construct a data loader for training auto-encoders on MNIST.\n",
    "    \n",
    "    Parameters\n",
    "    ----------\n",
    "    train : bool, optional\n",
    "        If `True`, use the MNIST training data, \n",
    "        otherwise use the test data.\n",
    "    flat : bool, optional\n",
    "        If `True`, the images is flattened in pre-processing.\n",
    "    raw_targets : bool, optional\n",
    "        If `True`, the target values are not normalised,\n",
    "        otherwise (the default), they are normalised\n",
    "        in the same way as the inputs are.\n",
    "    kwargs\n",
    "        Additional keyword arguments for data loader.\n",
    "        E.g. batch_size, shuffle, num_workers, ...\n",
    "\n",
    "    Returns\n",
    "    -------\n",
    "    loader : DataLoader\n",
    "        A data loader that iterates over the MNIST data,\n",
    "        where the inputs are properly normalised images\n",
    "        and the targets are either the raw images with pixels in [0, 1]\n",
    "        or equivalent to the inputs, depending on `raw_targets`.\n",
    "    \"\"\"\n",
    "    \n",
    "    \n",
    "\n",
    "    #for train and test (EXAMPLE):\n",
    "        \n",
    "    \n",
    "    to_tensor = transforms.ToTensor()\n",
    "    normalise = transforms.Compose([\n",
    "        to_tensor, transforms.Normalize((.1307, ), (.3081, ))\n",
    "    ])\n",
    "    \n",
    "    if flat:\n",
    "        to_tensor = transforms.Compose([to_tensor, nn.Flatten()])\n",
    "        normalise.transforms.append(nn.Flatten())\n",
    "    \n",
    "    _transforms = {\n",
    "        'transform': normalise,\n",
    "        'target_transform': to_tensor if raw_targets else normalise\n",
    "    }\n",
    "    data = AutoMNIST(root='./dataset', download=True, train=train, **_transforms)\n",
    "    loader = DataLoader(data, **kwargs)\n",
    "    return loader"
   ]
  },
  {
   "cell_type": "code",
   "execution_count": 3,
   "metadata": {
    "pycharm": {
     "name": "#%%\n"
    }
   },
   "outputs": [],
   "source": [
    "def _forward(network: nn.Module, data: DataLoader, metric: callable):\n",
    "    device = next(network.parameters()).device\n",
    "    \n",
    "    for x, y in data:\n",
    "        x, y = x.to(device), y.to(device)\n",
    "        logits = network(x)\n",
    "        res = metric(logits, y)\n",
    "        yield res\n",
    "\n",
    "\n",
    "@torch.no_grad()\n",
    "def evaluate(network: nn.Module, data: DataLoader, metric: callable) -> list:\n",
    "    network.eval()\n",
    "    \n",
    "    results = _forward(network, data, metric)\n",
    "    return [res.item() for res in results]\n",
    "    \n",
    "\n",
    "@torch.enable_grad()\n",
    "def update(network: nn.Module, data: DataLoader, loss: nn.Module, \n",
    "           opt: optim.Optimizer) -> list:\n",
    "    network.train()\n",
    "    \n",
    "    errs = []\n",
    "    for err in _forward(network, data, loss):\n",
    "        errs.append(err.item())\n",
    "        \n",
    "        opt.zero_grad()\n",
    "        err.backward()\n",
    "        opt.step()\n",
    "    \n",
    "    return errs\n",
    "\n",
    "\n",
    "def train_auto_encoder(auto_encoder: nn.Module, loader: DataLoader, \n",
    "                       objective: nn.Module, optimiser: optim.Optimizer, \n",
    "                       num_epochs: int = 10, vis_every: int = 2):\n",
    "    \"\"\"\n",
    "    Train an auto-encoder for a number of epochs.\n",
    "    \n",
    "    Parameters\n",
    "    ----------\n",
    "    auto_encoder : nn.Module\n",
    "        The auto-encoder to train\n",
    "    loader : DataLoader\n",
    "        A data loader for iterating over batches of the data.\n",
    "    objective : nn.Module\n",
    "        The loss function to optimise during training.\n",
    "    optimiser : optim.Optimizer\n",
    "        The optimiser to use for training.\n",
    "    num_epochs : int, optional\n",
    "        Number of times to iterate the dataset.\n",
    "    vis_every : int, optional\n",
    "        Frequency, during training, of \n",
    "        intermediate visualisation of reconstructions.\n",
    "    \"\"\"\n",
    "    # take random batch for visualising reconstructions\n",
    "    ref_inputs, _ = next(iter(loader))\n",
    "    \n",
    "    # evaluate random performance\n",
    "    errs = evaluate(auto_encoder, loader, objective)\n",
    "    print(f\"Epoch {0: 2d} - avg loss: {sum(errs) / len(errs):.6f}\")\n",
    "    display_result(auto_encoder, ref_inputs)\n",
    "    \n",
    "    # train for some epochs\n",
    "    for epoch in range(1, num_epochs + 1):\n",
    "        errs = update(auto_encoder, loader, objective, optimiser)\n",
    "        print(f\"Epoch {epoch: 2d} - avg loss: {sum(errs) / len(errs):.6f}\")\n",
    "\n",
    "        if epoch % vis_every == 0:\n",
    "            display_result(auto_encoder, ref_inputs)"
   ]
  },
  {
   "cell_type": "code",
   "execution_count": 4,
   "metadata": {
    "pycharm": {
     "name": "#%%\n"
    }
   },
   "outputs": [],
   "source": [
    "def data_to_image(*data: torch.Tensor, \n",
    "                  means: tuple = (0, ), stds: tuple = (1., )) -> Image:\n",
    "    \"\"\"\n",
    "    Convert multiple tensors to one big image.\n",
    "    \n",
    "    Parameters\n",
    "    ----------\n",
    "    data0, data1, ... dataN : torch.Tensor\n",
    "        One or more tensors to be merged into a single image.\n",
    "    means : tuple or torch.Tensor, optional\n",
    "        Original mean of the image before normalisation.\n",
    "    stds : tuple or torch.Tensor, optional\n",
    "        Original standard deviation of the image before normalisation.\n",
    "\n",
    "    Returns\n",
    "    -------\n",
    "    image : Image\n",
    "        PIL image with all of the tensors next to each other.\n",
    "    \"\"\"\n",
    "    # concatenate all data\n",
    "    big_pic = torch.cat([x for x in data], dim=-1)\n",
    "    \n",
    "    means = torch.tensor(means)\n",
    "    stds = torch.tensor(stds)\n",
    "    to_image = transforms.Compose([\n",
    "        # inverts normalisation of image\n",
    "        transforms.Normalize(-means / stds, 1. / stds),\n",
    "        transforms.Lambda(lambda x: torch.clamp(x, 0, 1)),\n",
    "        transforms.ToPILImage()\n",
    "    ])\n",
    "    \n",
    "    return to_image(big_pic)\n",
    "\n",
    "\n",
    "def display_result(auto_encoder: nn.Module, xs: torch.Tensor, count: int = 10):\n",
    "    \"\"\"\n",
    "    Visualise a number of reconstructions from an auto-encoder.\n",
    "    \n",
    "    Parameters\n",
    "    ----------\n",
    "    auto_encoder : nn.Module\n",
    "        The auto-encoder to visualise reconstructions for.\n",
    "    xs : torch.Tensor\n",
    "        Batch of images to be reconstructed.\n",
    "        The batch is assumed to have the correct shape\n",
    "        for feeding it to the network.\n",
    "    count : int, optional\n",
    "        Number of samples in the batch to visualise.\n",
    "\n",
    "    \"\"\"\n",
    "    xs = xs[:count]\n",
    "    model_dev = next(auto_encoder.parameters()).device\n",
    "    # get reconstructions\n",
    "    preds = auto_encoder.reconstruct(xs.to(model_dev)).cpu()\n",
    "    if preds.min() < 0:\n",
    "        preds = preds * .3081 + .1307    # unnormalise\n",
    "    \n",
    "    # convert to images\n",
    "    xs = xs.view(-1, 1, 28, 28)  # unflatten\n",
    "    x_im = data_to_image(*xs, means=(.1307, ), stds=(.3081, ))\n",
    "    preds = preds.view(-1, 1, 28, 28)\n",
    "    res_im = data_to_image(*preds)\n",
    "    \n",
    "    # paste together\n",
    "    im = Image.new('L', (len(xs) * 28, 56))\n",
    "    im.paste(x_im, (0, 0))\n",
    "    im.paste(res_im, (0, 28))\n",
    "    display(im, metadata={'width': '20%'})"
   ]
  },
  {
   "cell_type": "code",
   "execution_count": 5,
   "metadata": {
    "pycharm": {
     "name": "#%%\n"
    }
   },
   "outputs": [],
   "source": [
    "def download_image_data(url: str, md5: str = None, size: int = 224):\n",
    "    \"\"\"\n",
    "    Download and pre-process some image for AlexNet.\n",
    "    \n",
    "    Parameters\n",
    "    ----------\n",
    "    url : str\n",
    "        URL to the image.\n",
    "    md5 : str, optional\n",
    "        MD5 checksum of the image.\n",
    "    size : int, optional\n",
    "        Expected size for the image after cropping.\n",
    "\n",
    "    Returns\n",
    "    -------\n",
    "    x : (1, 3, size, size) torch.Tensor\n",
    "        Ready-to-predict image.\n",
    "    \"\"\"\n",
    "    from torchvision.datasets.utils import download_url\n",
    "    path = os.path.expanduser('~/.pytorch')\n",
    "    download_url(url, path, md5=md5)\n",
    "    file_name = url.rsplit('/', maxsplit=1)[-1]\n",
    "    im = Image.open(os.path.join(path, file_name))\n",
    "    # constants taken from torchvision.models docs\n",
    "    normalise = transforms.Compose([\n",
    "        transforms.RandomCrop(size=size),\n",
    "        transforms.ToTensor(),\n",
    "        transforms.Normalize((.485, .456, .406), (.229, .224, .225))\n",
    "    ])\n",
    "    return normalise(im).unsqueeze(0)"
   ]
  },
  {
   "cell_type": "markdown",
   "metadata": {
    "pycharm": {
     "name": "#%% md\n"
    }
   },
   "source": [
    "## Auto-Encoders\n",
    "\n",
    "An easy way to use supervised models in an unsupervised setting \n",
    "is to invent a prediction task that only requires the inputs.\n",
    "The most straightforward approach to this paradigm is to learn the identity function.\n",
    "It is trivial to find a network that solves this task perfectly (linear regression).\n",
    "In order to get more interesting models,\n",
    "it is therefore important to make it slightly harder for the network to learn the identity.\n",
    "\n",
    "The auto-encoder is a neural network architecture for learning these identity functions.\n",
    "In general, auto-encoders consist of two parts:\n",
    "the first part is the encoder, which maps the inputs to some *code*\n",
    "and the second part is the decoder, which maps this code back to the inputs.\n",
    "\n",
    "This setup is especially interesting when the code is much smaller than the input.\n",
    "In this case, the code forms a bottleneck for the information flow,\n",
    "and the network must learn to compress the information in the inputs to get good reconstructions.\n",
    "This effectively allows to learn a lossy compression scheme where\n",
    "the encoder can be used to compress the inputs and the decoder is used for decompression."
   ]
  },
  {
   "cell_type": "markdown",
   "metadata": {
    "pycharm": {
     "name": "#%% md\n"
    }
   },
   "source": [
    "### Task 1: Simple Auto-Encoder \n",
    "\n",
    "Auto-encoders are pretty straightforward to construct when using fully connected layers.\n",
    "Since the code size is directly controlled by the hyper-parameters,\n",
    "it is also very well suited for learning compression.\n",
    "\n",
    " > Implement a fully-connected auto-encoder module with single-layer encoders and decoders.\n",
    " > Code clearly distinguishes between encoder and decoder, so that the auto-encoder can easily be used to compress inputs and decompress codes.\n",
    " > `forward` should return logits!"
   ]
  },
  {
   "cell_type": "code",
   "execution_count": 14,
   "metadata": {
    "pycharm": {
     "name": "#%%\n"
    }
   },
   "outputs": [],
   "source": [
    "class AutoEncoder(nn.Module):\n",
    "    \"\"\" Fully connected auto-encoder. \"\"\"\n",
    "    \n",
    "    def __init__(self, in_features: int, code_features: int, \n",
    "                 activation: nn.Module = nn.Sigmoid()):\n",
    "        \"\"\"\n",
    "        Parameters\n",
    "        ----------\n",
    "        in_features : int\n",
    "            Dimensionality of the inputs.\n",
    "        code_features : int\n",
    "            Dimensionality of the code.\n",
    "        activation : nn.Module\n",
    "            Activation function to use for the codes.\n",
    "        \"\"\"\n",
    "        super().__init__()\n",
    "        \n",
    "        self.encoder = nn.Linear(in_features,code_features)\n",
    "        self.decoder = nn.Linear(code_features,in_features)\n",
    "        self.activation = activation\n",
    "        \n",
    "    def forward(self, x):\n",
    "        x = self.activation(self.encoder(x))\n",
    "        x = self.decoder(x)\n",
    "        return x\n",
    "    \n",
    "    @torch.no_grad()\n",
    "    def reconstruct(self, x: torch.Tensor) -> torch.Tensor:\n",
    "        \"\"\"\n",
    "        Properly reconstruct some inputs.\n",
    "        \n",
    "        Parameters\n",
    "        ----------\n",
    "        x : torch.Tensor\n",
    "            Inputs to be reconstructed.\n",
    "\n",
    "        Returns\n",
    "        -------\n",
    "        y : torch.Tensor\n",
    "            Result of reconstruction, with values\n",
    "            in the same range as the targets.\n",
    "        \"\"\"\n",
    "        logits = self.forward(x)\n",
    "        return torch.clamp(logits, x.min(), x.max())"
   ]
  },
  {
   "cell_type": "code",
   "execution_count": 15,
   "metadata": {},
   "outputs": [
    {
     "data": {
      "text/plain": [
       "201616"
      ]
     },
     "execution_count": 15,
     "metadata": {},
     "output_type": "execute_result"
    }
   ],
   "source": [
    "# sanity check\n",
    "ae = AutoEncoder(784, 128)\n",
    "ae(torch.randn(1, 784))\n",
    "sum(par.numel() for par in ae.parameters())"
   ]
  },
  {
   "cell_type": "markdown",
   "metadata": {},
   "source": [
    "### Task 2: Auto-Encoding \n",
    "\n",
    "When training an auto-encoder, there are some important choices to be taken.\n",
    "The number of units to represent the code is one of these choices,\n",
    "but also the loss function and the pre-processing of the the target values can make a difference.\n",
    "\n",
    " > Train the simple auto-encoder from exercise 1 on the MNIST dataset.\n"
   ]
  },
  {
   "cell_type": "code",
   "execution_count": 16,
   "metadata": {
    "scrolled": false
   },
   "outputs": [
    {
     "name": "stdout",
     "output_type": "stream",
     "text": [
      "Epoch  0 - avg loss: 1.067046\n"
     ]
    },
    {
     "data": {
      "image/png": "[encoded data removed]",
      "text/plain": [
       "<PIL.Image.Image image mode=L size=28x56 at 0x7FCE9090F340>"
      ]
     },
     "metadata": {
      "width": "20%"
     },
     "output_type": "display_data"
    },
    {
     "name": "stdout",
     "output_type": "stream",
     "text": [
      "Epoch  1 - avg loss: 0.420352\n",
      "Epoch  2 - avg loss: 0.400943\n",
      "Epoch  3 - avg loss: 0.393414\n"
     ]
    },
    {
     "data": {
      "image/png": "[encoded data removed]",
      "text/plain": [
       "<PIL.Image.Image image mode=L size=28x56 at 0x7FCE9090FDC0>"
      ]
     },
     "metadata": {
      "width": "20%"
     },
     "output_type": "display_data"
    },
    {
     "name": "stdout",
     "output_type": "stream",
     "text": [
      "Epoch  4 - avg loss: 0.389673\n"
     ]
    }
   ],
   "source": [
    "mnist = get_auto_mnist_loader(flat = True)\n",
    "loss_func = nn.MSELoss()\n",
    "train_auto_encoder(ae,mnist,objective = loss_func,optimiser = optim.Adam(ae.parameters(),lr = 0.01),num_epochs = 4,vis_every = 3)\n"
   ]
  },
  {
   "cell_type": "markdown",
   "metadata": {
    "pycharm": {
     "name": "#%% md\n"
    }
   },
   "source": [
    "## Convolutional Auto-Encoders\n",
    "\n",
    "Instead of using fully connected layers for an auto-encoder,\n",
    "it is also possible to use convolutional layers.\n",
    "One of the main problems with using convolutional layers in the encoder is,\n",
    "that it might not be obvious how to *undo* this operation in the decoder.\n",
    "\n",
    "There are proper methods to *deconvolve* a signal,\n",
    "but these can not be implemented in neural networks directly.\n",
    "Since it is not really necessary to invert the convolution,\n",
    "a so-called *transposed convolution* operation is used.\n",
    "This transposed convolution is able to upsample the image\n",
    "in a similar way as convolutions are able to downsample it.\n",
    "\n",
    "Convolutional networks also often make use of pooling layers for downsampling.\n",
    "This effectively throws away a large part of the original signal:\n",
    "for a window of 2x2 with stride 2, this is half of the original image.\n",
    "Of course this lost information can not be recovered,\n",
    "but by upsampling the image, a good approximation is often possible.\n",
    "How this upsampling, or *unpooling* can/should be done, \n",
    "strongly depends on the type of pooling.\n"
   ]
  },
  {
   "cell_type": "markdown",
   "metadata": {
    "pycharm": {
     "name": "#%% md\n"
    }
   },
   "source": [
    "<div style=\"text-align: center\">\n",
    "  <figure style=\"display: inline-block; width: 49%;\">\n",
    "    <img style=\"padding: 50px 63px\" src=\"https://raw.githubusercontent.com/vdumoulin/conv_arithmetic/master/gif/no_padding_no_strides.gif\" />\n",
    "    <figcaption style=\"width: 100%;\"> Normal convolution </figcaption>\n",
    "  </figure>\n",
    "  <figure style=\"display: inline-block; width: 49%;\">\n",
    "    <img src=\"https://raw.githubusercontent.com/vdumoulin/conv_arithmetic/master/gif/no_padding_no_strides_transposed.gif\" />\n",
    "    <figcaption style=\"width: 100%; text-align: center;\"> Transposed convolution </figcaption>\n",
    "  </figure>\n",
    "</div>\n",
    "\n",
    "*visualisations taken from the [github](https://github.com/vdumoulin/conv_arithmetic) that comes with [this guide](https://arxiv.org/abs/1603.07285)*"
   ]
  },
  {
   "cell_type": "markdown",
   "metadata": {
    "pycharm": {
     "name": "#%% md\n"
    }
   },
   "source": [
    "### Task 3: Undoing Convolutions\n",
    "\n",
    "Transposed convolutions are not only useful in auto-encoders.\n",
    "Zeiler and Fergus (from ZF net) used transposed convolutions\n",
    "to visualise what activations look like in input space.\n",
    "This is how they managed to find the deficits of AlexNet.\n",
    "\n",
    "The max-pooling layers in alex-net were reverted\n",
    "using an unpooling operation that requires \n",
    "the indices of the maxima in the original signal.\n",
    "This allows to reconstruct an image that is zero everywhere,\n",
    "except in those locations where the maxima were originally found.\n",
    "The ReLU non-linearity can be inverted by itself.\n"
   ]
  },
  {
   "cell_type": "code",
   "execution_count": 11,
   "metadata": {
    "pycharm": {
     "name": "#%%\n"
    }
   },
   "outputs": [],
   "source": [
    "class UndoableConvLayer(nn.Module):\n",
    "    \"\"\"\n",
    "    Convolutional layer with 'undo' functionality.\n",
    "    \n",
    "    This layer is a wrapper around a combination of\n",
    "    a `Conv2d` and a `MaxPool2d` layer with ReLU activations.\n",
    "    This layer can be used to undo the pooling and convolutions,\n",
    "    e.g. to visualise feature maps in the input space cf. Zeiler and Fergus.\n",
    "    \n",
    "    Notes\n",
    "    -----\n",
    "    This module can not be used for updating a network.\n",
    "    It should be applied to fully trained networks\n",
    "    to visualise what the network learns and get better insights in the net.\n",
    "    \"\"\"\n",
    "\n",
    "    def __init__(self, conv: nn.Conv2d, pool: nn.MaxPool2d):\n",
    "        super().__init__()\n",
    "        self._cache = None\n",
    "        self.conv = conv\n",
    "        self.pool = pool\n",
    "        self.pool.return_indices = True\n",
    "\n",
    "    @torch.no_grad()\n",
    "    def undo(self, a: torch.Tensor, idx: torch.Tensor, \n",
    "             out_pad: int = 0) -> torch.Tensor:\n",
    "        \"\"\"\n",
    "        Undo the operations from the forward pass.\n",
    "        \n",
    "        Parameters\n",
    "        ----------\n",
    "        a : torch.Tensor\n",
    "            Output activations of this layer.\n",
    "        idx : torch.Tensor\n",
    "            Indices from the max pooling layer.\n",
    "        out_pad : int, optional\n",
    "            If kernel size and or stride are not fit to the image,\n",
    "            it is possible that some input pixels are not used.\n",
    "            In order to get the correct output shape in this case,\n",
    "            the result of the transposed convolution must be padded.\n",
    "\n",
    "        Returns\n",
    "        -------\n",
    "        x : torch.Tensor\n",
    "            The roughly reconstructed inputs.\n",
    "        \"\"\"\n",
    "        \n",
    "        a = torch.relu(a)#added in otder to undo ReLU function\n",
    "        a = max_unpool2d(input = a,indices = idx,kernel_size = self.pool.kernel_size,stride = self.pool.stride,padding = self.pool.padding)\n",
    "        a = conv_transpose2d(a,output_padding = out_pad,stride = self.conv.stride,padding = self.conv.padding,weight = self.conv.weight)\n",
    "\n",
    "        return a\n",
    "\n",
    "    @torch.no_grad()\n",
    "    def forward(self, x):\n",
    "        s = self.conv(x)\n",
    "        out, idx = self.pool(s)\n",
    "        a = torch.relu(out)\n",
    "        return a, idx\n",
    "    \n",
    "    \n"
   ]
  },
  {
   "cell_type": "markdown",
   "metadata": {},
   "source": [
    "### Task 4: Visualising Features \n",
    "\n",
    "With the module from exercise 3 it should be pretty straightforward\n",
    "to take a closer look at what AlexNet features actually do.\n",
    "\n",
    " > Use the `UndoableConvLayer` to visualise \n",
    " > the 9 highest activations in the first and second layer of AlexNet.\n",
    " > Wrapped versions of the first two layers of AlexNet have been prepared for you.\n",
    " > To get a visualisation for the provided input image,\n",
    " > you will have to propagate **only** the 9 highest activations\n",
    " > in the layer of interest.\n",
    " > You can use the `keep_top_k` function to get the `k` highest elements."
   ]
  },
  {
   "cell_type": "code",
   "execution_count": 12,
   "metadata": {
    "pycharm": {
     "name": "#%%\n"
    }
   },
   "outputs": [
    {
     "name": "stdout",
     "output_type": "stream",
     "text": [
      "Downloading https://homes.cs.washington.edu/~moreau/media/vta/cat.jpg to /Users/daniil.yefimov/.pytorch/cat.jpg\n"
     ]
    },
    {
     "data": {
      "application/vnd.jupyter.widget-view+json": {
       "model_id": "df699c0c6639436b9a77cd641032f2ad",
       "version_major": 2,
       "version_minor": 0
      },
      "text/plain": [
       "  0%|          | 0/123126 [00:00<?, ?it/s]"
      ]
     },
     "metadata": {},
     "output_type": "display_data"
    },
    {
     "name": "stderr",
     "output_type": "stream",
     "text": [
      "/opt/anaconda3/lib/python3.9/site-packages/torchvision/models/_utils.py:208: UserWarning: The parameter 'pretrained' is deprecated since 0.13 and may be removed in the future, please use 'weights' instead.\n",
      "  warnings.warn(\n",
      "/opt/anaconda3/lib/python3.9/site-packages/torchvision/models/_utils.py:223: UserWarning: Arguments other than a weight enum or `None` for 'weights' are deprecated since 0.13 and may be removed in the future. The current behavior is equivalent to passing `weights=AlexNet_Weights.IMAGENET1K_V1`. You can also use `weights=AlexNet_Weights.DEFAULT` to get the most up-to-date weights.\n",
      "  warnings.warn(msg)\n",
      "Downloading: \"https://download.pytorch.org/models/alexnet-owt-7be5be79.pth\" to /Users/daniil.yefimov/.cache/torch/hub/checkpoints/alexnet-owt-7be5be79.pth\n"
     ]
    },
    {
     "data": {
      "application/vnd.jupyter.widget-view+json": {
       "model_id": "647d9c7d729043359ff84e203162cbfd",
       "version_major": 2,
       "version_minor": 0
      },
      "text/plain": [
       "  0%|          | 0.00/233M [00:00<?, ?B/s]"
      ]
     },
     "metadata": {},
     "output_type": "display_data"
    }
   ],
   "source": [
    "# download some random 256x256 kitten image\n",
    "kitten_url = 'https://homes.cs.washington.edu/~moreau/media/vta/cat.jpg'\n",
    "kitten_md5 = 'b852db33459ff958c9bba4e015cb37eb'\n",
    "x_im = download_image_data(kitten_url, kitten_md5)\n",
    "\n",
    "# download trained network\n",
    "net = models.alexnet(pretrained=True)\n",
    "layer1 = UndoableConvLayer(net.features[0], net.features[2])\n",
    "layer2 = UndoableConvLayer(net.features[3], net.features[5])"
   ]
  },
  {
   "cell_type": "code",
   "execution_count": 13,
   "metadata": {
    "pycharm": {
     "name": "#%%\n"
    }
   },
   "outputs": [],
   "source": [
    "def keep_top_k(tensor: torch.Tensor, k: int = 9) -> torch.Tensor:\n",
    "    \"\"\"\n",
    "    Drop all but the K highest entries in a tensor.\n",
    "    \n",
    "    Parameters\n",
    "    ----------\n",
    "    tensor : torch.Tensor\n",
    "        The tensor to start from.\n",
    "    k : int\n",
    "        The number of entries to keep.\n",
    "\n",
    "    Returns\n",
    "    -------\n",
    "    result : torch.Tensor\n",
    "        A tensor with only the K highest entries of `tensor`\n",
    "        in the corresponding positions.\n",
    "        All other entries are zero.\n",
    "    \"\"\"\n",
    "    result = torch.zeros_like(tensor)\n",
    "    vals, indices = torch.flatten(tensor, start_dim=1).topk(k, dim=-1)\n",
    "    torch.flatten(result, start_dim=1).scatter_(-1, indices, vals)\n",
    "    return result"
   ]
  },
  {
   "cell_type": "code",
   "execution_count": 14,
   "metadata": {
    "pycharm": {
     "name": "#%%\n"
    }
   },
   "outputs": [
    {
     "data": {
      "image/png": "[encoded data removed]",
      "text/plain": [
       "<PIL.Image.Image image mode=RGB size=672x224 at 0x7F7C6161B9A0>"
      ]
     },
     "metadata": {
      "width": "100%"
     },
     "output_type": "display_data"
    }
   ],
   "source": [
    "# generate ZF visualisations for layers 1 and 2 of AlexNet\n",
    "l1,idx_1 = layer1.forward(x_im)\n",
    "vis1 = layer1.undo(keep_top_k(l1),idx_1,1)\n",
    "\n",
    "l2,idx_2 = layer2.forward(l1)\n",
    "vis2 = layer1.undo(layer2.undo(keep_top_k(l2),idx_2),idx_1,1)\n",
    "\n",
    "# display visualisations\n",
    "img = data_to_image(vis1[0], x_im[0], vis2[0], \n",
    "                    means=(.485, .456, .406), stds=(.229, .224, .225))\n",
    "display(img, metadata={'width': '100%'})"
   ]
  },
  {
   "cell_type": "markdown",
   "metadata": {
    "pycharm": {
     "name": "#%% md\n"
    }
   },
   "source": [
    "### Task 5: Convolutional Auto-Encoder \n",
    "\n",
    "In contrast to what Zeiler and Fergus did for visualisation,\n",
    "the transposed convolutions in the decoder of a convolutional auto-encoder\n",
    "can be learned independently of the convolution in the encoder.\n",
    "Unpooling operations in the decoder, on the other hand, \n",
    "are still tied to the pooling in the encoder.\n",
    "\n",
    " > Build a convolutional auto-encoder with two convolutional layers\n",
    " > and at least one average pooling layer for the encoder.\n",
    " > Make sure that the decoder is symmetric to the encoder."
   ]
  },
  {
   "cell_type": "code",
   "execution_count": 17,
   "metadata": {
    "pycharm": {
     "name": "#%%\n"
    }
   },
   "outputs": [],
   "source": [
    "class ConvAutoEncoder(nn.Module):\n",
    "    \"\"\" Convolutional auto-encoder. \"\"\"\n",
    "    \n",
    "    def __init__(self, in_channels: int, hid_channels: int, code_channels: int, \n",
    "                 kernel_size: int, stride: int = 1, pooling: int = 2, \n",
    "                 activation: nn.Module = nn.ReLU()):\n",
    "        \"\"\"\n",
    "        Parameters\n",
    "        ----------\n",
    "        in_channels : int\n",
    "            Number of channels in the inputs.\n",
    "        hid_channels : int\n",
    "            Number of channels in the hidden layer(s).\n",
    "        code_channels : int\n",
    "            Number of channels in the code.\n",
    "        kernel_size : int or tuple\n",
    "            Window size for the convolutions\n",
    "        stride : int or tuple, optional\n",
    "            Window strides for the convolutions.\n",
    "        pooling : int or tuple, optional\n",
    "            Window size for the average pooling.\n",
    "        activation : nn.Module, optional\n",
    "            Activation function for the auto-encoder.\n",
    "        \"\"\"\n",
    "        super().__init__()\n",
    "        \n",
    "        self.conv_enc_1 = torch.nn.Conv2d(in_channels, hid_channels, kernel_size, stride)\n",
    "        self.conv_enc_2 = torch.nn.Conv2d(hid_channels, code_channels, kernel_size, stride)\n",
    "        \n",
    "        self.activation = activation\n",
    "        self.avg_pooling = torch.nn.AvgPool2d(kernel_size = pooling)\n",
    "        \n",
    "        self.conv_dec_1 = torch.nn.ConvTranspose2d(code_channels, hid_channels, kernel_size, stride)\n",
    "        self.conv_dec_2 = torch.nn.ConvTranspose2d(hid_channels, in_channels, kernel_size, stride)\n",
    "        \n",
    "\n",
    "\n",
    "        \n",
    "\n",
    "    def forward(self, x):\n",
    "        enc_1 = self.conv_enc_1(x)\n",
    "        enc_1 = self.activation(enc_1)\n",
    "        enc_2 = self.conv_enc_2(enc_1)\n",
    "        enc_2 = self.activation(enc_2)\n",
    "        \n",
    "        avg_pool = self.avg_pooling(enc_2)\n",
    "        up_avg = torch.nn.functional.interpolate(input = avg_pool,size =(enc_2.shape[2:]))\n",
    "        \n",
    "        dec_1 = self.conv_dec_1(up_avg)\n",
    "        dec_1 = self.activation(dec_1)\n",
    "        dec_2 = self.conv_dec_2(dec_1)#deleted activation after\n",
    "        return dec_2\n",
    "    \n",
    "\n",
    "        \n",
    "        \n",
    "    \n",
    "    @torch.no_grad()\n",
    "    def reconstruct(self, x: torch.Tensor) -> torch.Tensor:\n",
    "        \"\"\"\n",
    "        Properly reconstruct some inputs.\n",
    "        \n",
    "        Parameters\n",
    "        ----------\n",
    "        x : torch.Tensor\n",
    "            Inputs to be reconstructed.\n",
    "\n",
    "        Returns\n",
    "        -------\n",
    "        y : torch.Tensor\n",
    "            Result of reconstruction, with values\n",
    "            in the same range as the targets.\n",
    "        \"\"\"\n",
    "        logits = self.forward(x)\n",
    "        return torch.clamp(logits, x.min(), x.max())"
   ]
  },
  {
   "cell_type": "code",
   "execution_count": 19,
   "metadata": {},
   "outputs": [
    {
     "data": {
      "text/plain": [
       "6833"
      ]
     },
     "execution_count": 19,
     "metadata": {},
     "output_type": "execute_result"
    }
   ],
   "source": [
    "# sanity check\n",
    "cae = ConvAutoEncoder(1, 8, 16, 5, pooling=2)\n",
    "x = torch.randn(1, 1, 28, 28)\n",
    "y = cae(x)\n",
    "assert x.shape == y.shape, f\"wrong output shape: {y.shape}\"\n",
    "sum(par.numel() for par in cae.parameters())"
   ]
  },
  {
   "cell_type": "markdown",
   "metadata": {
    "pycharm": {
     "name": "#%% md\n"
    }
   },
   "source": [
    "### Task 6: Convolutional Auto-Encoding \n",
    "\n",
    "For (purely) convolutional auto-encoders it is often not clear what the code size is.\n",
    "How does it compare to a fully connected auto-encoder?\n",
    "What architecture would you choose if your goal is to learn compression?\n",
    "\n",
    " > Train the convolutional auto-encoder on MNIST images\n",
    " > in the same way as the simple auto-encoder in Task 2.\n",
    " > Print the code size of the convolutional auto-encoder\n",
    " > and minimise this code size, while maintaining good reconstructions.\n"
   ]
  },
  {
   "cell_type": "code",
   "execution_count": 20,
   "metadata": {
    "pycharm": {
     "name": "#%%\n"
    }
   },
   "outputs": [
    {
     "name": "stdout",
     "output_type": "stream",
     "text": [
      "Epoch  0 - avg loss: 1.313411\n"
     ]
    },
    {
     "data": {
      "image/png": "[encoded data removed]",
      "text/plain": [
       "<PIL.Image.Image image mode=L size=28x56 at 0x7FCEE0BD5E20>"
      ]
     },
     "metadata": {
      "width": "20%"
     },
     "output_type": "display_data"
    },
    {
     "name": "stdout",
     "output_type": "stream",
     "text": [
      "Epoch  1 - avg loss: 0.008300\n",
      "Epoch  2 - avg loss: 0.010382\n"
     ]
    },
    {
     "data": {
      "image/png": "[encoded data removed]",
      "text/plain": [
       "<PIL.Image.Image image mode=L size=28x56 at 0x7FCEE05CF7C0>"
      ]
     },
     "metadata": {
      "width": "20%"
     },
     "output_type": "display_data"
    },
    {
     "name": "stdout",
     "output_type": "stream",
     "text": [
      "Epoch  3 - avg loss: 0.010028\n",
      "Epoch  4 - avg loss: 0.010337\n"
     ]
    },
    {
     "data": {
      "image/png": "[encoded data removed]",
      "text/plain": [
       "<PIL.Image.Image image mode=L size=28x56 at 0x7FCEE05CF7C0>"
      ]
     },
     "metadata": {
      "width": "20%"
     },
     "output_type": "display_data"
    }
   ],
   "source": [
    "# train convolutional auto-encoder and print code size (see exercise 1)\n",
    "cae = ConvAutoEncoder(1, 8, 16, 3, pooling=2)\n",
    "mnist = get_auto_mnist_loader()\n",
    "loss_func = nn.MSELoss()\n",
    "train_auto_encoder(cae,mnist,objective = loss_func,optimiser = optim.Adam(cae.parameters(),lr = 0.01),num_epochs = 4,vis_every = 2)\n",
    "\n",
    "\n"
   ]
  }
 ],
 "metadata": {
  "kernelspec": {
   "display_name": "Python 3.9.12 ('base')",
   "language": "python",
   "name": "python3"
  },
  "language_info": {
   "codemirror_mode": {
    "name": "ipython",
    "version": 3
   },
   "file_extension": ".py",
   "mimetype": "text/x-python",
   "name": "python",
   "nbconvert_exporter": "python",
   "pygments_lexer": "ipython3",
   "version": "3.9.12"
  },
  "vscode": {
   "interpreter": {
    "hash": "40d3a090f54c6569ab1632332b64b2c03c39dcf918b08424e98f38b5ae0af88f"
   }
  }
 },
 "nbformat": 4,
 "nbformat_minor": 1
}
