{
 "cells": [
  {
   "cell_type": "markdown",
   "metadata": {},
   "source": [
    "<h1 style=\"color:rgb(0,120,170)\">Solving memory task using the RNN</h1>\n",
    "\n",
    "\n",
    "In this notebookwe will use the RNN from rnn_numpy notebook to solve the memory task. The task is to remember the first element in the input sequence. That is, given a sequence of random numbers, the RNN should output at the last time step the first element of the input sequence.This can be framed as a regression task. \n",
    "\n",
    "We will implement following steps:\n",
    "1. Implement a generator that yields unlimimted training batches for the memory task.\n",
    "2. Implement the mean squared error loss function and its derivative to be able to compute the gradients of the loss w.r.t. the network parameters.\n",
    "3. Implement a learner class to facilitate the model training.\n",
    "4. Train models for different sequence lengths and test up to which sequence length you are able to train the RNN succesfully. Visualize your results.\n",
    "5. Visualize the vanishing gradient problem."
   ]
  },
  {
   "cell_type": "code",
   "execution_count": 56,
   "metadata": {},
   "outputs": [
    {
     "name": "stdout",
     "output_type": "stream",
     "text": [
      "python version: 3.9.12\n",
      "numpy version: 1.21.5\n",
      "matplotlib version: 3.5.1\n"
     ]
    }
   ],
   "source": [
    "from collections import defaultdict\n",
    "from typing import Tuple, Generator, Dict\n",
    "\n",
    "import matplotlib\n",
    "import matplotlib.pyplot as plt\n",
    "import numpy as np\n",
    "import tqdm\n",
    "\n",
    "print('python version: 3.9.12')\n",
    "print('numpy version:',np.__version__)\n",
    "print('matplotlib version:',matplotlib.__version__)"
   ]
  },
  {
   "cell_type": "markdown",
   "metadata": {},
   "source": [
    "<h2 style=\"color:rgb(0,120,170)\">Task 1: Modified RNN implementation</h2>\n",
    "\n",
    "In the last assignment your task was to implement a RNN forward and backward pass that works on a single input sequence. In reality, what you want to do most of the time is training using mini-batches of data samples. That is, you don't do the forward and backward pass for a single sample and then update your weights, but instead do the forward and backward pass for _n_ samples at the same time and calculate the average gradients of the _n_ samples for the weight update.  "
   ]
  },
  {
   "cell_type": "code",
   "execution_count": 2,
   "metadata": {},
   "outputs": [],
   "source": [
    "class RNN(object):\n",
    "    \"\"\"Numpy implementation of sequence-to-one recurrent neural network for regression tasks.\"\"\"\n",
    "    \n",
    "    def __init__(self, input_size: int, hidden_size: int, output_size: int):\n",
    "\n",
    "        super(RNN, self).__init__()\n",
    "        self.input_size = input_size\n",
    "        self.hidden_size = hidden_size\n",
    "        self.output_size = output_size\n",
    "\n",
    "        # create and initialize weights of the network\n",
    "        \n",
    "        self.W = np.zeros((input_size, hidden_size))\n",
    "        self.R = np.zeros((hidden_size, hidden_size))\n",
    "        self.bs = np.zeros((hidden_size, 1))\n",
    "        self.V = np.zeros((hidden_size, output_size))\n",
    "        self.by = np.zeros((output_size, 1))\n",
    "        self.reset_parameters()\n",
    "\n",
    "        # place holder to store intermediates for backprop\n",
    "        self.a = None\n",
    "        self.y_hat = None\n",
    "        self.grads = None\n",
    "        self.x = None\n",
    "\n",
    "    def forward(self, x: np.ndarray) -> np.ndarray:\n",
    "        seq_length, batch_size, _ = x.shape\n",
    "              \n",
    "        self.a = {0:np.zeros((batch_size,self.hidden_size))}\n",
    "        for i in range(len(x)):\n",
    "            s_t = x[i] @ self.W  + self.a[i] @ self.R + self.bs.T\n",
    "            a_t = np.tanh(s_t)\n",
    "            self.a[i + 1] = a_t\n",
    "            \n",
    "        y_hat = a_t @ self.V + self.by.T\n",
    "        \n",
    "        self.x = x.copy()\n",
    "        self.y_hat = y_hat.copy()\n",
    "        \n",
    "        \n",
    "        return y_hat\n",
    "\n",
    "    def backward(self, d_loss: np.ndarray) -> Dict:\n",
    "        seq_len, _ , _ = self.x.shape\n",
    "        dV = np.zeros(self.V.shape)\n",
    "        dby = np.zeros((self.by.shape))\n",
    "        \n",
    "        dW = np.zeros((seq_len ,*self.W.shape))\n",
    "        dR = np.zeros((seq_len ,*self.R.shape))\n",
    "        dbs = np.zeros((seq_len ,*self.bs.shape))\n",
    "        \n",
    "        for i in reversed(range(seq_len)):\n",
    "            if i == seq_len - 1:\n",
    "                dV =  self.a[i+1].T @ d_loss\n",
    "                dby = d_loss.sum(axis=0).reshape(self.by.shape)\n",
    "                delta_t = (d_loss @ self.V.T) * (1 - self.a[i+1] * self.a[i+1])\n",
    "            else:\n",
    "                delta_t = (delta_t @ self.R.T) * (1 - self.a[i+1] * self.a[i+1])\n",
    "        \n",
    "\n",
    "            dW[i] += self.x[i].T @ delta_t\n",
    "            dR[i] += self.a[i].T @ delta_t\n",
    "            dbs[i] = delta_t.sum(axis=0).reshape(dbs[i].shape)\n",
    "            \n",
    "        self.grads = {'dW': dW, 'dR': dR, 'dV': dV, 'dbs': dbs, 'dby': dby}\n",
    "        return self.grads\n",
    "        \n",
    "        \n",
    "    def update(self, lr: float):\n",
    "\n",
    "        if not self.grads:\n",
    "            raise RuntimeError(\"You have to call the .backward() function first\")\n",
    "            \n",
    "            \n",
    "            \n",
    "        for key, grad in self.grads.items():\n",
    "            if len(grad.shape) == 3:\n",
    "                self.grads[key] = grad.sum(axis=0)\n",
    "       \n",
    "                                           \n",
    "                                           \n",
    "        self.V -= lr * self.grads['dV']\n",
    "        self.W -= lr * self.grads['dW']\n",
    "        self.R -= lr * self.grads['dR']\n",
    "        self.bs -= lr * self.grads['dbs']\n",
    "        self.by -= lr * self.grads['dby']\n",
    "        # reset internal class attributes\n",
    "        self.grads = {}\n",
    "        self.y_hat, self.a = None, None\n",
    "        \n",
    "    def get_weights(self) -> Dict:\n",
    "        return {'W': self.W, 'R': self.R, 'V': self.V, 'bs': self.bs, 'by': self.by}\n",
    "    \n",
    "    def set_weights(self, weights: Dict):\n",
    "        if not all(name in weights.keys() for name in ['W', 'R', 'V']):\n",
    "            raise ValueError(\"Missing one of 'W', 'R', 'V' keys in the weight dictionary\")\n",
    "        self.W = weights[\"W\"]\n",
    "        self.R = weights[\"R\"]\n",
    "        self.V = weights[\"V\"]\n",
    "        self.bs = weights[\"bs\"]\n",
    "        self.by = weights[\"by\"]\n",
    "        \n",
    "    def reset_parameters(self):\n",
    "        # recurrent weights initialized as identity matrix\n",
    "        self.R = np.eye(self.hidden_size)\n",
    "        \n",
    "        # input to hidden and hidden to output initialized with LeCun initialization\n",
    "        gain = np.sqrt(3 / self.input_size)\n",
    "        self.W = np.random.uniform(-gain, gain, self.W.shape)\n",
    "        gain = np.sqrt(3 / self.hidden_size)\n",
    "        self.V = np.random.uniform(-gain, gain, self.V.shape)"
   ]
  },
  {
   "cell_type": "markdown",
   "metadata": {},
   "source": [
    "<h2 style=\"color:rgb(0,120,170)\">Task 2: Implement Datagenerator</h2>\n",
    "Implementation of Python Generator function: given a `batch size` and a `sequence length`, returns two arrays, `x` and `y`. `x` is a batch of randomly generated input sequences of shape [sequence length, batch size, 1] and `y` the array of target values, which is the first sequence element for each sample in the batch."
   ]
  },
  {
   "cell_type": "code",
   "execution_count": 3,
   "metadata": {},
   "outputs": [],
   "source": [
    "def generate_samples(batch_size: int, seq_length: int) -> Tuple[np.ndarray, np.ndarray]:\n",
    "    \"\"\"Data generator for memory task\n",
    "    \n",
    "    Note: Implement this function as a Python generator.\n",
    "    \n",
    "    Parameters\n",
    "    ----------\n",
    "    batch_size : int\n",
    "        Number of samples in one batch\n",
    "    seq_length : int\n",
    "        Length of sequence of random numbers\n",
    "        \n",
    "    Returns\n",
    "    -------\n",
    "    x : np.ndarray\n",
    "        Array of shape [sequence length, batch size, 1], where each sample is a sequence\n",
    "        of random generated numbers between -1 and 1.\n",
    "    y : np.ndarray\n",
    "        Array of shape [batch size, 1], where each element i contains the label corresponding\n",
    "        to sample i of the input array. The label is the first element of the sequence.\n",
    "    \n",
    "    \"\"\"\n",
    "    while True:\n",
    "        x = np.random.uniform(-1,1,size = (seq_length,batch_size,1))\n",
    "        y = x[0,:,:]\n",
    "        yield (x,y)"
   ]
  },
  {
   "cell_type": "markdown",
   "metadata": {},
   "source": [
    "<h2 style=\"color:rgb(0,120,170)\">Task 3: Implement MSE Loss</h2>\n",
    "\n",
    "Since the memory task is a regression type of task, we will use the mean squared error (MSE) as our loss function."
   ]
  },
  {
   "cell_type": "code",
   "execution_count": 5,
   "metadata": {},
   "outputs": [],
   "source": [
    "class MSELoss(object):\n",
    "    def __init__(self):\n",
    "        super(MSELoss, self).__init__()\n",
    "        self.y_hat = None\n",
    "        self.y_true = None\n",
    "        \n",
    "    def forward(self, y_hat: np.ndarray, y_true: np.ndarray) -> float:\n",
    "        \"\"\" MSE loss\n",
    "        \n",
    "        Parameters\n",
    "        ----------\n",
    "        y_hat : np.ndarray\n",
    "            Array containing the network predictions of shape [batch_size, 1]\n",
    "        y_true : np.ndarray\n",
    "            Array containing the true values of shape [batch_size, 1]\n",
    "        \n",
    "        Returns:\n",
    "        The mean square error as a floating number.\n",
    "        \"\"\"\n",
    "\n",
    "        self.y_hat = y_hat\n",
    "        self.y_true = y_true\n",
    "        return np.mean(np.square(self.y_true - self.y_hat))\n",
    "    \n",
    "    def backward(self) -> np.ndarray:\n",
    "        \"\"\"Backward pass of the MSE\n",
    "        \n",
    "        Returns\n",
    "        -------\n",
    "        The gradient w.r.t the network output of shape [batch_size, 1]\n",
    "        \"\"\"\n",
    "          \n",
    "        res = -2 * np.sum(self.y_true - self.y_hat,axis = 1)/self.y_true.shape[0]\n",
    "        res = np.expand_dims(res, axis=1)\n",
    "        return res"
   ]
  },
  {
   "cell_type": "markdown",
   "metadata": {},
   "source": [
    "<h2 style=\"color:rgb(0,120,170)\">Task 4: Implement Learner class</h2>\n",
    "\n",
    "The task of this excercise is to implement a setup for training the RNN. That is, give the data generator from above, setup a model and connect the outputs to the MSELoss, channel the gradient of the MSELoss into the backward pass of the RNN and monitor the loss during training."
   ]
  },
  {
   "cell_type": "code",
   "execution_count": 53,
   "metadata": {},
   "outputs": [],
   "source": [
    "class Learner(object):\n",
    "    def __init__(self, model: RNN, loss_obj: MSELoss, data_generator: Generator):\n",
    "        \"\"\"The initialization method\n",
    "        \n",
    "        Parameters\n",
    "        ----------\n",
    "        model : RNN\n",
    "            An instance of the NumPy RNN implementation.\n",
    "        loss_obj: MSELoss\n",
    "            An instance of the mean squared error loss class.\n",
    "        data_generator : Generator\n",
    "            The data generator function implemented above\n",
    "        \"\"\"\n",
    "        self.model = model\n",
    "        self.loss_obj = loss_obj\n",
    "        self.data_generator = data_generator\n",
    "        \n",
    "        self.loss_values = {}\n",
    "        self.y_hats = None\n",
    "        self.y_trues = None\n",
    "        self.gradients = []\n",
    "        \n",
    "    def train(self, iter_steps: int, lr: float, log_steps: int = 50):\n",
    "        \"\"\"The training method.\n",
    "        \n",
    "        This function implements the training loop for a given number of\n",
    "        iteration steps.\n",
    "        \n",
    "        Parameters\n",
    "        ----------\n",
    "        iter_steps : int\n",
    "            Number of training iteration steps.\n",
    "        lr : float\n",
    "            Learning rate used for the weight update.\n",
    "        log_steps : int\n",
    "            Interval to log the training loss, by default 50.\n",
    "        \"\"\"\n",
    "        if not self.loss_values:\n",
    "            start_step = 0\n",
    "        else:\n",
    "            start_step = list(self.loss_values.keys())[-1]\n",
    "        pbar = tqdm.tqdm_notebook(self.data_generator, total=iter_steps)\n",
    "        for x, y in pbar:\n",
    "            pbar.update()\n",
    "            if pbar.n < iter_steps:\n",
    "   \n",
    "                #training steps\n",
    "                y_hat = self.model.forward(x)\n",
    "                self.y_trues = y\n",
    "                self.y_hats = y_hat\n",
    "                \n",
    "                loss = self.loss_obj.forward(self.y_hats,self.y_trues)\n",
    "                loss_grad = self.loss_obj.backward()\n",
    "                gradients = self.model.backward(loss_grad)\n",
    "                self.gradients.append(gradients)\n",
    "                self.model.update(lr)\n",
    "                \n",
    "                # log loss value\n",
    "                if pbar.n % log_steps == 0:\n",
    "                    self.loss_values[start_step + pbar.n] = loss\n",
    "                    pbar.set_postfix_str(f\"Loss: {loss:5f}\")\n",
    "            else:\n",
    "                tqdm.tqdm.write(\"finished training\")\n",
    "                break\n",
    "    \n",
    "    def make_predictions(self, n_batches: int) -> Tuple[np.ndarray, np.ndarray]:\n",
    "        \"\"\"Predictions for a given number of random batches.\n",
    "        \n",
    "        Parameters\n",
    "        ----------\n",
    "        n_batches : int\n",
    "            Number of batches to get networks predictions for.\n",
    "            \n",
    "        Returns\n",
    "        -------\n",
    "        y_hats : np.ndarray\n",
    "            NumPy array containing the concatenated network predictions for all batches.\n",
    "        y_trues : np.ndarray\n",
    "            NumPy array containing the concatenated true labels for all batches.\n",
    "        \"\"\"\n",
    "        for i in range(n_batches):\n",
    "            x,y = next(self.data_generator)\n",
    "            y_hat = self.model.forward(x)\n",
    "            if i == 0:\n",
    "                y_hat_all = y_hat\n",
    "                y_all = y\n",
    "            else:\n",
    "                y_hat_all = np.concatenate((y_hat_all, y_hat), axis=0)\n",
    "                y_all = np.concatenate((y_all, y), axis=0)\n",
    "        return (y_hat_all,y_all)\n",
    "                    \n",
    "    def plot_loss(self, figsize: Tuple[float, float]=(10, 8)):\n",
    "        \"\"\"Plot training loss curve.\n",
    "        \n",
    "        Parameters\n",
    "        ----------\n",
    "        figsize : Tuple[float, float]\n",
    "            Matplotlib figure size, by default (10,8)\n",
    "        \"\"\"\n",
    "        if not self.loss_values:\n",
    "            raise RuntimeError(\"You have to train the network first.\")\n",
    "            \n",
    "        fig, ax = plt.subplots(figsize=figsize)\n",
    "        ax.plot(list(self.loss_values.keys()), list(self.loss_values.values()))\n",
    "        ax.set_xlabel(\"Weight updates\")\n",
    "        ax.set_ylabel(\"MSE\")\n",
    "    \n",
    "    def scatter_plot(self,figsize: Tuple[float, float]=(10, 8)):\n",
    "        \"\"\"Scatter plot of true vs predicted values.\n",
    "        \n",
    "        Parameters\n",
    "        ----------\n",
    "        figsize : Tuple[float, float]\n",
    "            Matplotlib figure size, by default (10,8)\n",
    "        \"\"\"        \n",
    "        if any(val is None for val in [self.y_hats, self.y_trues]):\n",
    "            raise RuntimeError(\"Call the .make_predictions() method first\")\n",
    "    \n",
    "        fig, ax = plt.subplots(figsize=figsize)\n",
    "        ax.scatter(self.y_trues, self.y_hats)\n",
    "        ax.plot([-1,1], [-1,1], '--', color='k', zorder=0)\n",
    "        ax.set_xlabel(\"True values\")\n",
    "        ax.set_ylabel(\"Predicted values\")"
   ]
  },
  {
   "cell_type": "markdown",
   "metadata": {},
   "source": [
    "Now use everything implemented so far to train your first RNN."
   ]
  },
  {
   "cell_type": "code",
   "execution_count": 52,
   "metadata": {},
   "outputs": [
    {
     "name": "stderr",
     "output_type": "stream",
     "text": [
      "/var/folders/yn/55hr75q51119y7clshplydwm0000gn/T/ipykernel_23953/2892444947.py:42: TqdmDeprecationWarning: This function will be removed in tqdm==5.0.0\n",
      "Please use `tqdm.notebook.tqdm` instead of `tqdm.tqdm_notebook`\n",
      "  pbar = tqdm.tqdm_notebook(self.data_generator, total=iter_steps)\n"
     ]
    },
    {
     "data": {
      "application/vnd.jupyter.widget-view+json": {
       "model_id": "2d1c274a29014553a5af35dc292fd969",
       "version_major": 2,
       "version_minor": 0
      },
      "text/plain": [
       "  0%|          | 0/5000 [00:00<?, ?it/s]"
      ]
     },
     "metadata": {},
     "output_type": "display_data"
    },
    {
     "name": "stdout",
     "output_type": "stream",
     "text": [
      "finished training\n"
     ]
    },
    {
     "data": {
      "image/png": "[encoded data removed]",
      "text/plain": [
       "<Figure size 720x576 with 1 Axes>"
      ]
     },
     "metadata": {
      "needs_background": "light"
     },
     "output_type": "display_data"
    },
    {
     "data": {
      "image/png": "[encoded data removed]",
      "text/plain": [
       "<Figure size 720x576 with 1 Axes>"
      ]
     },
     "metadata": {
      "needs_background": "light"
     },
     "output_type": "display_data"
    }
   ],
   "source": [
    "loss_obj = MSELoss()\n",
    "model = RNN(input_size=1, hidden_size=10, output_size=1)\n",
    "data_generator = generate_samples(batch_size=1024, seq_length=10)\n",
    "\n",
    "learner = Learner(model=model, loss_obj=loss_obj, data_generator=data_generator)\n",
    "learner.train(iter_steps=5000, lr=1e-2, log_steps=50)\n",
    "learner.plot_loss()\n",
    "_ = learner.make_predictions(n_batches=1)\n",
    "learner.scatter_plot()"
   ]
  },
  {
   "cell_type": "markdown",
   "metadata": {},
   "source": [
    "<h2 style=\"color:rgb(0,120,170)\">Task 4: Train RNNs</h2>\n",
    "\n",
    "Train RNNs to solve the memory task with different sequence length."
   ]
  },
  {
   "cell_type": "code",
   "execution_count": 54,
   "metadata": {},
   "outputs": [
    {
     "name": "stderr",
     "output_type": "stream",
     "text": [
      "/var/folders/yn/55hr75q51119y7clshplydwm0000gn/T/ipykernel_23953/2892444947.py:42: TqdmDeprecationWarning: This function will be removed in tqdm==5.0.0\n",
      "Please use `tqdm.notebook.tqdm` instead of `tqdm.tqdm_notebook`\n",
      "  pbar = tqdm.tqdm_notebook(self.data_generator, total=iter_steps)\n"
     ]
    },
    {
     "data": {
      "application/vnd.jupyter.widget-view+json": {
       "model_id": "49cee37ddb43484ca691d98164e51db2",
       "version_major": 2,
       "version_minor": 0
      },
      "text/plain": [
       "  0%|          | 0/5000 [00:00<?, ?it/s]"
      ]
     },
     "metadata": {},
     "output_type": "display_data"
    },
    {
     "name": "stdout",
     "output_type": "stream",
     "text": [
      "finished training\n"
     ]
    },
    {
     "data": {
      "application/vnd.jupyter.widget-view+json": {
       "model_id": "c70a1eb47f164ca5a69f169e8dc700bf",
       "version_major": 2,
       "version_minor": 0
      },
      "text/plain": [
       "  0%|          | 0/5000 [00:00<?, ?it/s]"
      ]
     },
     "metadata": {},
     "output_type": "display_data"
    },
    {
     "name": "stdout",
     "output_type": "stream",
     "text": [
      "finished training\n"
     ]
    },
    {
     "data": {
      "application/vnd.jupyter.widget-view+json": {
       "model_id": "79b839bfa6d342668120aa400ecad041",
       "version_major": 2,
       "version_minor": 0
      },
      "text/plain": [
       "  0%|          | 0/5000 [00:00<?, ?it/s]"
      ]
     },
     "metadata": {},
     "output_type": "display_data"
    },
    {
     "name": "stdout",
     "output_type": "stream",
     "text": [
      "finished training\n"
     ]
    },
    {
     "data": {
      "application/vnd.jupyter.widget-view+json": {
       "model_id": "b9c3186cfb47471b801451a7edc34202",
       "version_major": 2,
       "version_minor": 0
      },
      "text/plain": [
       "  0%|          | 0/5000 [00:00<?, ?it/s]"
      ]
     },
     "metadata": {},
     "output_type": "display_data"
    },
    {
     "name": "stdout",
     "output_type": "stream",
     "text": [
      "finished training\n"
     ]
    },
    {
     "data": {
      "application/vnd.jupyter.widget-view+json": {
       "model_id": "1442d5bad4a1430b93c04594a741c2a4",
       "version_major": 2,
       "version_minor": 0
      },
      "text/plain": [
       "  0%|          | 0/5000 [00:00<?, ?it/s]"
      ]
     },
     "metadata": {},
     "output_type": "display_data"
    },
    {
     "name": "stdout",
     "output_type": "stream",
     "text": [
      "finished training\n"
     ]
    },
    {
     "data": {
      "application/vnd.jupyter.widget-view+json": {
       "model_id": "047df32fbeb34acd9b697b2180ce44a2",
       "version_major": 2,
       "version_minor": 0
      },
      "text/plain": [
       "  0%|          | 0/5000 [00:00<?, ?it/s]"
      ]
     },
     "metadata": {},
     "output_type": "display_data"
    },
    {
     "name": "stdout",
     "output_type": "stream",
     "text": [
      "finished training\n"
     ]
    },
    {
     "data": {
      "application/vnd.jupyter.widget-view+json": {
       "model_id": "f46977305a7441108bca803a22e0420c",
       "version_major": 2,
       "version_minor": 0
      },
      "text/plain": [
       "  0%|          | 0/5000 [00:00<?, ?it/s]"
      ]
     },
     "metadata": {},
     "output_type": "display_data"
    },
    {
     "name": "stdout",
     "output_type": "stream",
     "text": [
      "finished training\n"
     ]
    },
    {
     "data": {
      "application/vnd.jupyter.widget-view+json": {
       "model_id": "e0b982fd75044bcc83e0f1800354dc98",
       "version_major": 2,
       "version_minor": 0
      },
      "text/plain": [
       "  0%|          | 0/5000 [00:00<?, ?it/s]"
      ]
     },
     "metadata": {},
     "output_type": "display_data"
    },
    {
     "name": "stdout",
     "output_type": "stream",
     "text": [
      "finished training\n"
     ]
    },
    {
     "data": {
      "application/vnd.jupyter.widget-view+json": {
       "model_id": "4b35dac660734fb7b336ff3fbf40da3e",
       "version_major": 2,
       "version_minor": 0
      },
      "text/plain": [
       "  0%|          | 0/5000 [00:00<?, ?it/s]"
      ]
     },
     "metadata": {},
     "output_type": "display_data"
    },
    {
     "name": "stdout",
     "output_type": "stream",
     "text": [
      "finished training\n"
     ]
    },
    {
     "data": {
      "application/vnd.jupyter.widget-view+json": {
       "model_id": "c9b3ebb52a3c421b8bd7c1641044c4bb",
       "version_major": 2,
       "version_minor": 0
      },
      "text/plain": [
       "  0%|          | 0/5000 [00:00<?, ?it/s]"
      ]
     },
     "metadata": {},
     "output_type": "display_data"
    },
    {
     "name": "stdout",
     "output_type": "stream",
     "text": [
      "finished training\n"
     ]
    },
    {
     "data": {
      "application/vnd.jupyter.widget-view+json": {
       "model_id": "fa7e300605da4eea9c2af8296b0a16d9",
       "version_major": 2,
       "version_minor": 0
      },
      "text/plain": [
       "  0%|          | 0/5000 [00:00<?, ?it/s]"
      ]
     },
     "metadata": {},
     "output_type": "display_data"
    },
    {
     "name": "stdout",
     "output_type": "stream",
     "text": [
      "finished training\n"
     ]
    },
    {
     "data": {
      "application/vnd.jupyter.widget-view+json": {
       "model_id": "59d2c89a8cae46ae8a775d81536cd646",
       "version_major": 2,
       "version_minor": 0
      },
      "text/plain": [
       "  0%|          | 0/5000 [00:00<?, ?it/s]"
      ]
     },
     "metadata": {},
     "output_type": "display_data"
    },
    {
     "name": "stdout",
     "output_type": "stream",
     "text": [
      "finished training\n"
     ]
    },
    {
     "data": {
      "application/vnd.jupyter.widget-view+json": {
       "model_id": "b620e43fdc694f65bc877e1cdbee7121",
       "version_major": 2,
       "version_minor": 0
      },
      "text/plain": [
       "  0%|          | 0/5000 [00:00<?, ?it/s]"
      ]
     },
     "metadata": {},
     "output_type": "display_data"
    },
    {
     "name": "stdout",
     "output_type": "stream",
     "text": [
      "finished training\n"
     ]
    },
    {
     "data": {
      "application/vnd.jupyter.widget-view+json": {
       "model_id": "a7978a2eed9f4e59bbf890335dd95666",
       "version_major": 2,
       "version_minor": 0
      },
      "text/plain": [
       "  0%|          | 0/5000 [00:00<?, ?it/s]"
      ]
     },
     "metadata": {},
     "output_type": "display_data"
    },
    {
     "name": "stdout",
     "output_type": "stream",
     "text": [
      "finished training\n"
     ]
    },
    {
     "data": {
      "application/vnd.jupyter.widget-view+json": {
       "model_id": "1c31aa44063a4c63abbfeeadf46072b4",
       "version_major": 2,
       "version_minor": 0
      },
      "text/plain": [
       "  0%|          | 0/5000 [00:00<?, ?it/s]"
      ]
     },
     "metadata": {},
     "output_type": "display_data"
    },
    {
     "name": "stdout",
     "output_type": "stream",
     "text": [
      "finished training\n"
     ]
    },
    {
     "data": {
      "application/vnd.jupyter.widget-view+json": {
       "model_id": "77139e52295d49b7b3554715283ae251",
       "version_major": 2,
       "version_minor": 0
      },
      "text/plain": [
       "  0%|          | 0/5000 [00:00<?, ?it/s]"
      ]
     },
     "metadata": {},
     "output_type": "display_data"
    },
    {
     "name": "stdout",
     "output_type": "stream",
     "text": [
      "finished training\n"
     ]
    },
    {
     "data": {
      "application/vnd.jupyter.widget-view+json": {
       "model_id": "ba2b336b63c049fa8c919cd803ff2ff8",
       "version_major": 2,
       "version_minor": 0
      },
      "text/plain": [
       "  0%|          | 0/5000 [00:00<?, ?it/s]"
      ]
     },
     "metadata": {},
     "output_type": "display_data"
    },
    {
     "name": "stdout",
     "output_type": "stream",
     "text": [
      "finished training\n"
     ]
    },
    {
     "data": {
      "application/vnd.jupyter.widget-view+json": {
       "model_id": "8e892d8663994c1fa7f3523fabb87731",
       "version_major": 2,
       "version_minor": 0
      },
      "text/plain": [
       "  0%|          | 0/5000 [00:00<?, ?it/s]"
      ]
     },
     "metadata": {},
     "output_type": "display_data"
    },
    {
     "name": "stdout",
     "output_type": "stream",
     "text": [
      "finished training\n"
     ]
    },
    {
     "data": {
      "application/vnd.jupyter.widget-view+json": {
       "model_id": "019f20d079cb40dfad9c79d9f875cace",
       "version_major": 2,
       "version_minor": 0
      },
      "text/plain": [
       "  0%|          | 0/5000 [00:00<?, ?it/s]"
      ]
     },
     "metadata": {},
     "output_type": "display_data"
    },
    {
     "name": "stdout",
     "output_type": "stream",
     "text": [
      "finished training\n"
     ]
    },
    {
     "data": {
      "application/vnd.jupyter.widget-view+json": {
       "model_id": "86ccba6ec498448f8805b0dbefbc4441",
       "version_major": 2,
       "version_minor": 0
      },
      "text/plain": [
       "  0%|          | 0/5000 [00:00<?, ?it/s]"
      ]
     },
     "metadata": {},
     "output_type": "display_data"
    },
    {
     "name": "stdout",
     "output_type": "stream",
     "text": [
      "finished training\n"
     ]
    },
    {
     "data": {
      "application/vnd.jupyter.widget-view+json": {
       "model_id": "a3b9347c03324fe4bec19930e84428f6",
       "version_major": 2,
       "version_minor": 0
      },
      "text/plain": [
       "  0%|          | 0/5000 [00:00<?, ?it/s]"
      ]
     },
     "metadata": {},
     "output_type": "display_data"
    },
    {
     "name": "stdout",
     "output_type": "stream",
     "text": [
      "finished training\n"
     ]
    },
    {
     "data": {
      "application/vnd.jupyter.widget-view+json": {
       "model_id": "610614bd91044ae580361c4d15643415",
       "version_major": 2,
       "version_minor": 0
      },
      "text/plain": [
       "  0%|          | 0/5000 [00:00<?, ?it/s]"
      ]
     },
     "metadata": {},
     "output_type": "display_data"
    },
    {
     "name": "stdout",
     "output_type": "stream",
     "text": [
      "finished training\n"
     ]
    },
    {
     "data": {
      "application/vnd.jupyter.widget-view+json": {
       "model_id": "6058a5406e8942858e0eef24534c9039",
       "version_major": 2,
       "version_minor": 0
      },
      "text/plain": [
       "  0%|          | 0/5000 [00:00<?, ?it/s]"
      ]
     },
     "metadata": {},
     "output_type": "display_data"
    },
    {
     "name": "stdout",
     "output_type": "stream",
     "text": [
      "finished training\n"
     ]
    },
    {
     "data": {
      "application/vnd.jupyter.widget-view+json": {
       "model_id": "f99fb2ab143a4d1590849b63f73d43ae",
       "version_major": 2,
       "version_minor": 0
      },
      "text/plain": [
       "  0%|          | 0/5000 [00:00<?, ?it/s]"
      ]
     },
     "metadata": {},
     "output_type": "display_data"
    },
    {
     "name": "stdout",
     "output_type": "stream",
     "text": [
      "finished training\n"
     ]
    },
    {
     "data": {
      "application/vnd.jupyter.widget-view+json": {
       "model_id": "b0ab101f9f7d4459bee2a388886f74c9",
       "version_major": 2,
       "version_minor": 0
      },
      "text/plain": [
       "  0%|          | 0/5000 [00:00<?, ?it/s]"
      ]
     },
     "metadata": {},
     "output_type": "display_data"
    },
    {
     "name": "stdout",
     "output_type": "stream",
     "text": [
      "finished training\n"
     ]
    },
    {
     "data": {
      "application/vnd.jupyter.widget-view+json": {
       "model_id": "3fdbffe28893429e9f126593387a590a",
       "version_major": 2,
       "version_minor": 0
      },
      "text/plain": [
       "  0%|          | 0/5000 [00:00<?, ?it/s]"
      ]
     },
     "metadata": {},
     "output_type": "display_data"
    },
    {
     "name": "stdout",
     "output_type": "stream",
     "text": [
      "finished training\n"
     ]
    },
    {
     "data": {
      "application/vnd.jupyter.widget-view+json": {
       "model_id": "cdd42624340c43d2b7b82b3d87d02b81",
       "version_major": 2,
       "version_minor": 0
      },
      "text/plain": [
       "  0%|          | 0/5000 [00:00<?, ?it/s]"
      ]
     },
     "metadata": {},
     "output_type": "display_data"
    },
    {
     "name": "stdout",
     "output_type": "stream",
     "text": [
      "finished training\n"
     ]
    },
    {
     "data": {
      "application/vnd.jupyter.widget-view+json": {
       "model_id": "d566857bab61494584f969c78d6588b4",
       "version_major": 2,
       "version_minor": 0
      },
      "text/plain": [
       "  0%|          | 0/5000 [00:00<?, ?it/s]"
      ]
     },
     "metadata": {},
     "output_type": "display_data"
    },
    {
     "name": "stdout",
     "output_type": "stream",
     "text": [
      "finished training\n"
     ]
    },
    {
     "data": {
      "application/vnd.jupyter.widget-view+json": {
       "model_id": "c81f079de08845a3b0a30e3908323cd7",
       "version_major": 2,
       "version_minor": 0
      },
      "text/plain": [
       "  0%|          | 0/5000 [00:00<?, ?it/s]"
      ]
     },
     "metadata": {},
     "output_type": "display_data"
    },
    {
     "name": "stdout",
     "output_type": "stream",
     "text": [
      "finished training\n"
     ]
    },
    {
     "data": {
      "application/vnd.jupyter.widget-view+json": {
       "model_id": "8796ef3b622c476fb70903bb8700409b",
       "version_major": 2,
       "version_minor": 0
      },
      "text/plain": [
       "  0%|          | 0/5000 [00:00<?, ?it/s]"
      ]
     },
     "metadata": {},
     "output_type": "display_data"
    },
    {
     "name": "stdout",
     "output_type": "stream",
     "text": [
      "finished training\n"
     ]
    }
   ],
   "source": [
    "#Sequence length = 10: works perfectly\n",
    "loss_10 = []\n",
    "for i in range(10):\n",
    "    model = RNN(input_size=1, hidden_size=10, output_size=1)\n",
    "    data_generator_10 = generate_samples(batch_size=1024, seq_length= 10)\n",
    "    learner = Learner(model=model, loss_obj=loss_obj, data_generator=data_generator_10)\n",
    "    learner.train(iter_steps=5000, lr=1e-2, log_steps=500)\n",
    "    loss_10.append(learner.loss_values)\n",
    "\n",
    "\n",
    "    \n",
    "#Sequence length = 20: problems with gradient descent, with te numer of iterations loss increases\n",
    "loss_20 = []\n",
    "for i in range(10):\n",
    "    model = RNN(input_size=1, hidden_size=10, output_size=1)\n",
    "    data_generator_20 = generate_samples(batch_size=1024, seq_length= 20)\n",
    "    learner = Learner(model=model, loss_obj=loss_obj, data_generator=data_generator_20)\n",
    "    learner.train(iter_steps=5000, lr=1e-2, log_steps=500)\n",
    "    loss_20.append(learner.loss_values)   \n",
    "    \n",
    "\n",
    "    \n",
    "    \n",
    "#Sequence length = 30: problems with gradient descenz,with te numer of iterations loss increases\n",
    "#At the end loss is huge in comparisson to sequence length = 10\n",
    "loss_30 = []\n",
    "for i in range(10):\n",
    "    model = RNN(input_size=1, hidden_size=10, output_size=1)\n",
    "    data_generator_30 = generate_samples(batch_size=1024, seq_length= 30)\n",
    "    learner = Learner(model=model, loss_obj=loss_obj, data_generator=data_generator_30)\n",
    "    learner.train(iter_steps=5000, lr=1e-2, log_steps=500)\n",
    "    loss_30.append(learner.loss_values)\n",
    "\n",
    "\n"
   ]
  },
  {
   "cell_type": "markdown",
   "metadata": {},
   "source": [
    "Visualize the results, including error bars (from the repetitions)."
   ]
  },
  {
   "cell_type": "code",
   "execution_count": 55,
   "metadata": {},
   "outputs": [
    {
     "data": {
      "image/png": "[encoded data removed]",
      "text/plain": [
       "<Figure size 432x288 with 1 Axes>"
      ]
     },
     "metadata": {
      "needs_background": "light"
     },
     "output_type": "display_data"
    }
   ],
   "source": [
    "#calculating average losses(for every times) for every setting:\n",
    "def loss_avg(loss):\n",
    "    loss_avg = dict((key,0) for key in loss[0].keys())\n",
    "    for i in range(len(loss)):\n",
    "        for key,values in loss[i].items():\n",
    "            loss_avg[key] += values\n",
    "            if i == len(loss) - 1:\n",
    "                  loss_avg[key] /= len(loss)\n",
    "                    \n",
    "    return loss_avg\n",
    "\n",
    "loss_10 = loss_avg(loss_10)\n",
    "#loss_15 = loss_avg(loss_15)\n",
    "loss_20 = loss_avg(loss_20)\n",
    "loss_30 = loss_avg(loss_30)\n",
    "\n",
    "\n",
    "labels = list(loss_10.keys())\n",
    "loss_10_means = list(loss_10.values())\n",
    "#loss_15_means = list(loss_15.values())\n",
    "loss_20_means = list(loss_20.values())\n",
    "loss_30_means = list(loss_30.values())\n",
    "\n",
    "\n",
    "x = np.arange(len(labels))  # the label locations\n",
    "width = 0.15  # the width of the bars\n",
    "\n",
    "fig, ax = plt.subplots()\n",
    "bar1 = ax.bar(x - width, loss_10_means, width, label='Length 10')\n",
    "#bar2 = ax.bar(x , loss_15_means, width, label='Length 15')\n",
    "bar2 = ax.bar(x, loss_20_means, width, label='Length 20')\n",
    "bar3 = ax.bar(x + width, loss_30_means, width, label='Length 30')\n",
    "\n",
    "#labels and title\n",
    "ax.set_ylabel('MSE')\n",
    "ax.set_xlabel('Number of iterations')\n",
    "ax.set_title('MSE by sequence length')\n",
    "ax.set_xticks(x)\n",
    "ax.set_xticklabels(labels)\n",
    "ax.legend()\n",
    "\n",
    "fig.tight_layout()\n",
    "plt.show()"
   ]
  },
  {
   "cell_type": "markdown",
   "metadata": {},
   "source": [
    "<h2 style=\"color:rgb(0,120,170)\">Excercise 5: Vanishing Gradient</h2>\n",
    "\n",
    "In the lecture you have heard that the problem of training RNNs on long sequences is called the vanishing gradient problem. Come up with your own ideas how you can visualize this problem. \n",
    "\n",
    "Hint: You could, for example, compare the gradients over time for two different sequence lengths - one sequence length, where the RNN still is able to learn and one, where it does not."
   ]
  },
  {
   "cell_type": "code",
   "execution_count": 45,
   "metadata": {},
   "outputs": [
    {
     "name": "stderr",
     "output_type": "stream",
     "text": [
      "/var/folders/yn/55hr75q51119y7clshplydwm0000gn/T/ipykernel_23953/2999345973.py:42: TqdmDeprecationWarning: This function will be removed in tqdm==5.0.0\n",
      "Please use `tqdm.notebook.tqdm` instead of `tqdm.tqdm_notebook`\n",
      "  pbar = tqdm.tqdm_notebook(self.data_generator, total=iter_steps)\n"
     ]
    },
    {
     "data": {
      "application/vnd.jupyter.widget-view+json": {
       "model_id": "70e8941bc78f4c1d996a4c6d24a809d5",
       "version_major": 2,
       "version_minor": 0
      },
      "text/plain": [
       "  0%|          | 0/5000 [00:00<?, ?it/s]"
      ]
     },
     "metadata": {},
     "output_type": "display_data"
    },
    {
     "name": "stdout",
     "output_type": "stream",
     "text": [
      "finished training\n"
     ]
    },
    {
     "data": {
      "application/vnd.jupyter.widget-view+json": {
       "model_id": "6d4ee78a25f34fffa76e6ac4b3c80dee",
       "version_major": 2,
       "version_minor": 0
      },
      "text/plain": [
       "  0%|          | 0/5000 [00:00<?, ?it/s]"
      ]
     },
     "metadata": {},
     "output_type": "display_data"
    },
    {
     "name": "stdout",
     "output_type": "stream",
     "text": [
      "finished training\n"
     ]
    }
   ],
   "source": [
    "#getting gradients d_R(mean)\n",
    "def get_grads(grads):\n",
    "    d_R_grads = [] \n",
    "    for i in range(len(grads)):\n",
    "        d_R_grads.append(np.abs(np.mean(grads[i]['dR'])))\n",
    "                    \n",
    "    return d_R_grads\n",
    "\n",
    "\n",
    "#grads 10\n",
    "model = RNN(input_size=1, hidden_size=10, output_size=1)\n",
    "data_generator_10 = generate_samples(batch_size=1024, seq_length= 10)\n",
    "learner = Learner(model=model, loss_obj=loss_obj, data_generator=data_generator_10)\n",
    "learner.train(iter_steps=5000, lr=1e-2, log_steps=200)\n",
    "grads_10 = get_grads(learner.gradients)\n",
    "\n",
    "#grads 25\n",
    "model = RNN(input_size=1, hidden_size=10, output_size=1)\n",
    "data_generator_25 = generate_samples(batch_size=1024, seq_length= 25)\n",
    "learner = Learner(model=model, loss_obj=loss_obj, data_generator=data_generator_25)\n",
    "learner.train(iter_steps=5000, lr=1e-2, log_steps=200)\n",
    "grads_25 = get_grads(learner.gradients)"
   ]
  },
  {
   "cell_type": "code",
   "execution_count": 48,
   "metadata": {},
   "outputs": [
    {
     "data": {
      "text/plain": [
       "<matplotlib.legend.Legend at 0x7fbd7088c3a0>"
      ]
     },
     "execution_count": 48,
     "metadata": {},
     "output_type": "execute_result"
    },
    {
     "data": {
      "image/png": "[encoded data removed]",
      "text/plain": [
       "<Figure size 1440x1440 with 1 Axes>"
      ]
     },
     "metadata": {
      "needs_background": "light"
     },
     "output_type": "display_data"
    }
   ],
   "source": [
    "plt.figure(figsize=(20,20))\n",
    "axes = plt.gca()\n",
    "axes.set_ylim([0,1])\n",
    "axes.set_ylabel('Gradient mean value',fontsize=18)\n",
    "axes.set_xlabel('Number of iterations',fontsize=18)\n",
    "axes.set_title('d_R gradients',fontsize=18)\n",
    "plt.plot(grads_10, label = 'Gradient Sequence 10')\n",
    "plt.plot(grads_25, label = 'Gradient Sequence 25')\n",
    "plt.legend(prop={'size': 20})\n",
    "\n",
    "\n",
    "\n"
   ]
  }
 ],
 "metadata": {
  "kernelspec": {
   "display_name": "Python 3.9.12 ('base')",
   "language": "python",
   "name": "python3"
  },
  "language_info": {
   "codemirror_mode": {
    "name": "ipython",
    "version": 3
   },
   "file_extension": ".py",
   "mimetype": "text/x-python",
   "name": "python",
   "nbconvert_exporter": "python",
   "pygments_lexer": "ipython3",
   "version": "3.9.12"
  },
  "vscode": {
   "interpreter": {
    "hash": "40d3a090f54c6569ab1632332b64b2c03c39dcf918b08424e98f38b5ae0af88f"
   }
  }
 },
 "nbformat": 4,
 "nbformat_minor": 2
}
