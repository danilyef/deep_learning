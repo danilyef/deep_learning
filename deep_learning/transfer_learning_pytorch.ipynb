{
 "cells": [
  {
   "cell_type": "markdown",
   "metadata": {},
   "source": [
    "# Vision Networks and Fast Training: Transfer Learning"
   ]
  },
  {
   "cell_type": "markdown",
   "metadata": {},
   "source": [
    "In this notebook, we will take a closer look at some famous vision architectures.\n",
    "Since most of these architectures are very large, it requires high-end hardware to train from scratch.\n",
    "To leverage the limited availability of hardware, also *Transfer Learning* can be used. \n",
    "By using stored weights of a large network a new network can be trained cheaply on new datasets."
   ]
  },
  {
   "cell_type": "code",
   "execution_count": 2,
   "metadata": {
    "pycharm": {
     "name": "#%%\n"
    }
   },
   "outputs": [
    {
     "name": "stdout",
     "output_type": "stream",
     "text": [
      "Python version: 3.9.12\n",
      "Pytorch version: 1.13.0\n",
      "torchvision version: 0.14.0\n"
     ]
    }
   ],
   "source": [
    "import torch\n",
    "import torchvision\n",
    "from torch import nn\n",
    "from torch import optim\n",
    "from torch.utils.data import DataLoader\n",
    "from tqdm.notebook import trange\n",
    "\n",
    "torch.manual_seed(1806)\n",
    "torch.cuda.manual_seed(1806)\n",
    "\n",
    "print('Python version: 3.9.12')\n",
    "print('Pytorch version:', torch.__version__)\n",
    "print('torchvision version:', torchvision.__version__)"
   ]
  },
  {
   "cell_type": "markdown",
   "metadata": {
    "pycharm": {
     "name": "#%% md\n"
    }
   },
   "source": [
    "## LeNet-5 and its Offspring\n",
    "\n",
    "![LeNet-5 architecture](https://miro.medium.com/max/2154/1*1TI1aGBZ4dybR6__DI9dzA.png)\n",
    "\n",
    "The LeNet-5 architecture (depicted above) is one of the first convolutional networks.\n",
    "Since convolutions are extremely well suited for many computer vision tasks,\n",
    "a wide variety of network architectures using convolutional layers has become available.\n",
    "Although the differences in performance are sometimes large,\n",
    "the architectures can generally be considered variations on the same theme."
   ]
  },
  {
   "cell_type": "markdown",
   "metadata": {
    "pycharm": {
     "name": "#%% md\n"
    }
   },
   "source": [
    "###### Alexnet\n",
    "\n",
    "![alex-net architecture](https://cdn-images-1.medium.com/max/1000/1*wzflNwJw9QkjWWvTosXhNw.png)\n",
    "\n",
    "In 2012 Alex Krizhevsky et al. won the [Imagenet Large Scale Visual Recognition Challenge](http://www.image-net.org/challenges/LSVRC/) (ILSVRC).\n",
    "The network they used, which is known as *Alex-net*, is depicted below and follows the same basic principles as LeNet-5.\n",
    "Alex-net has quite a bit more parameters than LeNet-5, therefore it requires a large amount of computational resources to train.\n",
    "\n",
    "To speed up training time, Alex-net was trained on GPU.\n",
    "Since GPUs have access to little memory compared to CPUs (especially back in the days),\n",
    "alex-net did not fit on a single GPU and required 2 GPUs to train the model,\n",
    "hence the distinction between two paths in the illustration of the network.\n",
    "\n",
    "On modern GPUs, it is no longer a problem to fit alex-net on a single GPU.\n",
    "Due to the fact that deep learning frameworks mostly support hardware acceleration, \n",
    "it has even become extremely easy and almost common to train (large) networks on GPUs.\n",
    "A more detailed description on how to achieve this in pytorch, is given below.\n",
    "\n",
    "Another important add-on, is the use of the dropout regularisation technique in the fully connected layers.\n",
    "From DL & NN 1 you should remember that dropout behaves differently during testing and training.\n",
    "When using Dropout or other modules with different behaviour, e.g. BatchNorm, in pytorch, \n",
    "it is important to make sure that your network operates in the right mode.\n",
    "To do this, the `nn.Module` class provides the `train` and `eval` methods\n",
    "and invokes it on all submodules to assure that the desired behaviour is triggered."
   ]
  },
  {
   "cell_type": "markdown",
   "metadata": {
    "pycharm": {
     "name": "#%% md\n"
    }
   },
   "source": [
    "### Pytorch GPU acceleration\n",
    "\n",
    "In pytorch, training a model on GPU is relatively easy.\n",
    "To copy a tensor `x` from main memory (or wherever it may be) to GPU memory,\n",
    "all we need to do is call `x.to('cuda')` or equivalently `x.cuda()`.\n",
    "When multiple GPUs are available, `x.to('cuda:0')` copies a tensor to the first GPU,\n",
    "`x.to('cuda:1')` to the second, etc.\n",
    "Similarly, to copy a tensor from a GPU (or again wherever it may be) to main memory,\n",
    "`x.to('cpu')` or equivalently `x.cpu()` can be used.\n",
    "\n",
    "Whenever a computation is done on tensors that reside on a specific device,\n",
    "the result will also be on that device.\n",
    "It is not possible, however, to make computations with tensors from different devices.\n",
    "This means that the training of an entire network automatically takes place on e.g. a GPU,\n",
    "as soon as all the variables reside on the same device.\n",
    "When working with neural networks, \n",
    "this is the case if both the network parameters and the data are moved to the same device.\n",
    "\n",
    "To move all parameters of a network to the correct device,\n",
    "The `nn.Module` class provides a convenience `to` method \n",
    "that moves all registered parameters, buffers and submodules to the correct device.\n",
    "\n",
    "As for the data, it is often possible to fit the entire dataset in GPU memory.\n",
    "However, often it does not provide any advantages or it even comes with disadvantages.\n",
    "E.g. the `MNIST` dataset from `torchvision` provides PIL images that can not reside on GPU.\n",
    "If the dataset would be stored on the GPU, the data would have to move to CPU first,\n",
    "where the pre-processing is done on the PIL images, and then move back to the GPU.\n",
    "Therefore, it is considered good practice to keep the dataset in main memory\n",
    "and move the samples to the GPU only when they are needed for computation."
   ]
  },
  {
   "cell_type": "markdown",
   "metadata": {},
   "source": [
    "### Task 1: Hardware Acceleration "
   ]
  },
  {
   "cell_type": "code",
   "execution_count": 3,
   "metadata": {
    "pycharm": {
     "name": "#%%\n"
    }
   },
   "outputs": [],
   "source": [
    "@torch.no_grad()\n",
    "def evaluate(network: nn.Module, data: DataLoader, metric: callable) -> list:\n",
    "    \"\"\"\n",
    "    Evaluate the performance of a network on some metric.\n",
    "    \n",
    "    Parameters\n",
    "    ----------\n",
    "    network : nn.Module\n",
    "        Pytorch module representing the network.\n",
    "    data : DataLoader\n",
    "        Pytorch dataloader that is able to \n",
    "        efficiently sample mini-batches of data.\n",
    "    metric : callable\n",
    "        Function that computes a scalar metric\n",
    "        from the network logits and true data labels.\n",
    "        The function should expect pytorch tensors as inputs.\n",
    "\n",
    "    Returns\n",
    "    -------\n",
    "    errors : list\n",
    "        The computed metric for each mini-batch in `data`.\n",
    "    \"\"\"\n",
    "    \n",
    "    errors_batch = []  \n",
    "    device = torch.device(\"cuda\" if torch.cuda.is_available() else \"cpu\")\n",
    "    \n",
    "    network.eval()\n",
    "    with torch.no_grad():\n",
    "        for i, (x,y) in enumerate(data):\n",
    "            x = x.to(device)\n",
    "            y = y.to(device)\n",
    "            \n",
    "\n",
    "            pred = network.forward(x)\n",
    "            res = metric(pred,y)\n",
    "            errors_batch.append(res)\n",
    "    \n",
    "    return errors_batch\n",
    "    \n",
    "\n",
    "@torch.enable_grad()\n",
    "def update(network: nn.Module, data: DataLoader, loss: nn.Module, \n",
    "           opt: optim.Optimizer) -> list:\n",
    "    \"\"\"\n",
    "    Update the network to minimise some loss using a given optimiser.\n",
    "    \n",
    "    Parameters\n",
    "    ----------\n",
    "    network : nn.Module\n",
    "        Pytorch module representing the network.\n",
    "    data : DataLoader\n",
    "        Pytorch dataloader that is able to \n",
    "        efficiently sample mini-batches of data.\n",
    "    loss : nn.Module\n",
    "        Pytorch function that computes a scalar loss\n",
    "        from the network logits and true data labels.\n",
    "    opt : optim.Optimiser\n",
    "        Pytorch optimiser to use for minimising the objective.\n",
    "\n",
    "    Returns\n",
    "    -------\n",
    "    errors : list\n",
    "        The computed loss for each mini-batch in `data`.\n",
    "    \"\"\" \n",
    "    loss_batch = []\n",
    "    device = torch.device(\"cuda\" if torch.cuda.is_available() else \"cpu\")\n",
    " \n",
    "    network.train()\n",
    "    for i, (x,y) in enumerate(data):\n",
    "        x = x.to(device)\n",
    "        y = y.to(device)\n",
    "        \n",
    "        opt.zero_grad()\n",
    "\n",
    "        pred = network.forward(x)\n",
    "        loss_res = loss(pred,y)\n",
    "        loss_res.backward()\n",
    "        opt.step()\n",
    "\n",
    "        loss_batch.append(loss_res.item())\n",
    "        \n",
    "    return loss_batch"
   ]
  },
  {
   "cell_type": "markdown",
   "metadata": {
    "pycharm": {
     "name": "#%% md\n"
    }
   },
   "source": [
    "###### VGG\n",
    "\n",
    "<img src=\"https://miro.medium.com/max/2628/1*lZTWFT36PXsZZK3HjZ3jFQ.png\" \n",
    "     alt=\"VGG architecture\" style=\"width: 70%; margin: auto\" />\n",
    "\n",
    "The Visual Geometry Group at Oxford University introduced \n",
    "different versions of architectures that are now known as VGG net.\n",
    "11-layer, 16-layer and 19-layer variants exist,\n",
    "all of which use only 3x3 convolutions in the feature extraction part.\n",
    "\n",
    "After winning the Imagenet Large Scale Visual Recognition Challenge (ILSVRC) in 2014,\n",
    "the weights of the winning models were made [available](https://www.robots.ox.ac.uk/~vgg/research/very_deep/).\n",
    "This made it possible for researchers with lower computational budgets\n",
    "to make use of the features the network has extracted for natural images."
   ]
  },
  {
   "cell_type": "markdown",
   "metadata": {
    "pycharm": {
     "name": "#%% md\n"
    }
   },
   "source": [
    "### Task 2: VGG for CIFAR-10\n",
    "\n",
    "Inception has been trained on the ImageNet dataset, which is hard to come by:\n",
    "it is very large (a few 100GB) and requires registration to get access to the images.\n",
    "[CIFAR-10 and CIFAR-100](https://www.cs.toronto.edu/~kriz/cifar.html)\n",
    "are similar datasets that are much easier to obtain\n",
    "and are also one of the standard datasets in `torchvision.datasets`.\n",
    "In this exercise the goal is to build the VGG model for CIFAR-10\n",
    "so that it uses the same feature extraction architecture as `torchvision.models.VGG`.\n",
    "\n",
    " > Create a network with the exact same convolutional layers as\n",
    " > `torchvision.models.VGG` so that it can be used for CIFAR images.\n",
    " > Concretely, the goal is to replace the classifier to predict CIFAR labels\n",
    " > instead of the Imagenet labels.\n",
    " > Use global average pooling to make the classifier independent of the exact image size.\n",
    " > Keep the classifier architecture rectangular, i.e. same width for all layers (except for the classes).\n"
   ]
  },
  {
   "cell_type": "code",
   "execution_count": 4,
   "metadata": {
    "pycharm": {
     "name": "#%%\n"
    }
   },
   "outputs": [],
   "source": [
    "class CifarVGG(nn.Module):\n",
    "    \"\"\" Variant of the VGG network for classifying CIFAR images. \"\"\"\n",
    "    \n",
    "    def __init__(self, features: nn.Module, num_classes: int = 10):\n",
    "        \"\"\"\n",
    "        Parameters\n",
    "        ----------\n",
    "        features : nn.Module\n",
    "            The convolutional part of the VGG network.\n",
    "        num_classes : int\n",
    "            The number of output classes in the data.\n",
    "        \"\"\"\n",
    "        super(CifarVGG,self).__init__()\n",
    "        self.features = features\n",
    "        self.features.global_average = torch.nn.AdaptiveAvgPool2d((1,1))\n",
    "        self.classifier = nn.Sequential(\n",
    "            nn.Linear(512,512),\n",
    "            nn.ReLU(True),\n",
    "            nn.Dropout(),\n",
    "            nn.Linear(512, 512),\n",
    "            nn.ReLU(True),\n",
    "            nn.Dropout(),\n",
    "            nn.Linear(512, num_classes),\n",
    "        )\n",
    "        \n",
    "        \n",
    "    def forward(self,x):\n",
    "        x = self.features(x)\n",
    "        x = torch.flatten(x, 1)\n",
    "        x = self.classifier(x)\n",
    "        return x\n",
    "        \n",
    "        "
   ]
  },
  {
   "cell_type": "markdown",
   "metadata": {
    "pycharm": {
     "name": "#%% md\n"
    }
   },
   "source": [
    "### Task 3: Existing Features \n",
    "\n",
    "Training a network like VGG (or any of the other networks in this assignment)\n",
    "can take a few hours when training on a GPU.\n",
    "Therefore it is often useful to be able to load pre-trained weights into the network.\n",
    "Also, saving a model that has been trained for hours can often save a lot of time.\n",
    "In pytorch this is possible through what is called \n",
    "[`state_dict`s](https://pytorch.org/tutorials/beginner/saving_loading_models.html).\n",
    "Saving the parameters of a pytorch module can be done with `torch.save(module.state_dict(), path)`,\n",
    "whereas loading saved parameters is done with `module.load_state_dict(torch.load(path))`.\n",
    "\n",
    " > Write a function `vgg_init_` to initialise a `CifarVGG` network.\n",
    " > It should load the pre-trained weights for the **13-layer variant of VGG** from `torchvision.models.vgg`\n",
    " > to initialise the feature extractor of the model\n",
    " > and reasonably initialise the classifier using initialisation functions from `torch.nn.init`."
   ]
  },
  {
   "cell_type": "code",
   "execution_count": 7,
   "metadata": {
    "pycharm": {
     "name": "#%%\n"
    }
   },
   "outputs": [],
   "source": [
    "def vgg_init_(network: CifarVGG):\n",
    "    \"\"\"\n",
    "    Initialise a CifarVGG network with a pre-trained VGG feature extractor.\n",
    "    \n",
    "    Parameters\n",
    "    ----------\n",
    "    network : CifarVGG\n",
    "        The model to initialise.\n",
    "    \"\"\"\n",
    "    #from torchvision.models import vgg\n",
    "    weights = torch.hub.load_state_dict_from_url('https://download.pytorch.org/models/vgg13-c768596a.pth')\n",
    "    \n",
    "    #assigning weights of feature:\n",
    "    for layer in network.state_dict().keys():\n",
    "        index = int(layer.split('.')[1])\n",
    "        \n",
    "        if layer.startswith('features') and 'weight' in layer:\n",
    "            network.features[index].weight = nn.Parameter(weights[layer])           \n",
    "            \n",
    "        elif layer.startswith('features') and 'bias' in layer:  \n",
    "            network.features[index].bias = nn.Parameter(weights[layer])\n",
    "            \n",
    "            \n",
    "        elif layer.startswith('classifier') and 'weight' in layer:\n",
    "            torch.nn.init.xavier_uniform_(network.state_dict()[layer],gain=nn.init.calculate_gain('relu'))\n",
    "            \n",
    "        elif layer.startswith('classifier') and 'bias' in layer:\n",
    "            torch.nn.init.zeros_(network.state_dict()[layer])\n"
   ]
  },
  {
   "cell_type": "code",
   "execution_count": 8,
   "metadata": {},
   "outputs": [
    {
     "name": "stderr",
     "output_type": "stream",
     "text": [
      "Downloading: \"https://download.pytorch.org/models/vgg13-c768596a.pth\" to /Users/daniil.yefimov/.cache/torch/hub/checkpoints/vgg13-c768596a.pth\n"
     ]
    },
    {
     "data": {
      "application/vnd.jupyter.widget-view+json": {
       "model_id": "0ad8a5e0341e403fb383e0f916583287",
       "version_major": 2,
       "version_minor": 0
      },
      "text/plain": [
       "  0%|          | 0.00/508M [00:00<?, ?B/s]"
      ]
     },
     "metadata": {},
     "output_type": "display_data"
    }
   ],
   "source": [
    "# sanity check\n",
    "vgg13 = torchvision.models.vgg13()\n",
    "network = CifarVGG(vgg13.features, num_classes=10)\n",
    "vgg_init_(network)\n"
   ]
  },
  {
   "cell_type": "markdown",
   "metadata": {
    "pycharm": {
     "name": "#%% md\n"
    }
   },
   "source": [
    "### Task 4: Training (part of) the Network \n",
    "\n",
    "Obviously, a classifier for CIFAR 10 will be different from a classifier for Imagenet.\n",
    "With the initialisation above, the `CifarVGG` has a ready-to-go feature extractor,\n",
    "but the classifier part still has to be trained.\n",
    "To do this training efficiently, there are a few things left to do.\n",
    "\n",
    " > The code below should train the entire network on the entire dataset for a few epochs.\n",
    " > To do:\n",
    " > 1. Only trains the classifier part of the network\n",
    " > and leaves the convolutional feature extractor untouched, i.e., *frozen*. \n",
    " > 2. The 32x32 CIFAR images are upscaled to 224x224 pixels. \n",
    " > 3. Training is done on the GPU, which is generally faster. \n",
    " > Also, use a parallel dataloader to make sure that the GPU does not have to wait for data.\n",
    " > 4. Only a subset of 500 images from the CIFAR data is used for training. \n",
    " > 5. A subset of 500 images from the CIFAR data is used as validation data.\n"
   ]
  },
  {
   "cell_type": "code",
   "execution_count": 10,
   "metadata": {
    "scrolled": true
   },
   "outputs": [
    {
     "name": "stdout",
     "output_type": "stream",
     "text": [
      "Files already downloaded and verified\n"
     ]
    },
    {
     "data": {
      "application/vnd.jupyter.widget-view+json": {
       "model_id": "28bde7f93ed943758d994cadec96dcc3",
       "version_major": 2,
       "version_minor": 0
      },
      "text/plain": [
       "  0%|          | 0/20 [00:00<?, ?it/s]"
      ]
     },
     "metadata": {},
     "output_type": "display_data"
    }
   ],
   "source": [
    "# set up data\n",
    "normalise=torchvision.transforms.Compose([\n",
    "    torchvision.transforms.ToTensor(),\n",
    "    torchvision.transforms.Resize((224,224)),\n",
    "    torchvision.transforms.Normalize((0.4914, 0.4822, 0.4465), (0.247, 0.243, 0.261))\n",
    "    \n",
    "])\n",
    "cifar10_train = torchvision.datasets.CIFAR10(\"~/.pytorch\", transform = normalise, download = True,train = True)\n",
    "\n",
    "subset_train = torch.utils.data.Subset(cifar10_train, list(range(0,500)))\n",
    "subset_val = torch.utils.data.Subset(cifar10_train, list(range(500,1001)))\n",
    "\n",
    "samples_train = DataLoader(subset_train, batch_size=32,num_workers = 2,pin_memory=True,shuffle = True)\n",
    "samples_val = DataLoader(subset_val, batch_size=32,num_workers = 2,pin_memory=True,shuffle = True)\n",
    "\n",
    "\n",
    "\n",
    "# create and initialise model\n",
    "vgg13 = torchvision.models.vgg13()\n",
    "network = CifarVGG(vgg13.features, num_classes=10)\n",
    "vgg_init_(network)\n",
    "\n",
    "#Freeze Convolutional layers\n",
    "for param in network.features.parameters():\n",
    "    param.requires_grad = False\n",
    "\n",
    "#Move training to GPU\n",
    "device = torch.device(\"cuda\" if torch.cuda.is_available() else \"cpu\")\n",
    "network = network.to(device)\n",
    "\n",
    "# optimiser + loss function\n",
    "sgd = optim.SGD(network.parameters(), lr=1e-1)\n",
    "ce = nn.CrossEntropyLoss()\n",
    "\n",
    "# train for 20 epochs\n",
    "train_errs, valid_errs = [], []\n",
    "for _ in trange(20):\n",
    "    \n",
    "    #training\n",
    "    local_errs_train = update(network, samples_train, ce, sgd)\n",
    "    train_errs.append(sum(local_errs_train) / len(local_errs_train))\n",
    "    \n",
    "    #validation\n",
    "    local_errs_val = evaluate(network, samples_val, ce)\n",
    "    valid_errs.append(sum(local_errs_val) / len(local_errs_val))\n",
    "    \n",
    "    \n",
    "    \n"
   ]
  },
  {
   "cell_type": "code",
   "execution_count": 11,
   "metadata": {},
   "outputs": [
    {
     "data": {
      "image/png": "[encoded data removed]",
      "text/plain": [
       "<Figure size 432x288 with 1 Axes>"
      ]
     },
     "metadata": {
      "needs_background": "light"
     },
     "output_type": "display_data"
    }
   ],
   "source": [
    "# plot learning curves\n",
    "from matplotlib import pyplot as plt\n",
    "plt.plot(train_errs, label=\"train\")\n",
    "plt.plot(valid_errs, label=\"valid\")\n",
    "plt.legend()\n",
    "plt.show()"
   ]
  },
  {
   "cell_type": "markdown",
   "metadata": {},
   "source": [
    "### Task 5: Accuracy\n",
    "\n",
    "In order to get an idea of how well this transfer learning worked,\n",
    "we can evaluate the accuracy on the CIFAR 10 test data.\n",
    "\n",
    " > Compute and output the accuracy on the training, validation and test data."
   ]
  },
  {
   "cell_type": "code",
   "execution_count": 12,
   "metadata": {},
   "outputs": [
    {
     "name": "stdout",
     "output_type": "stream",
     "text": [
      "Files already downloaded and verified\n"
     ]
    }
   ],
   "source": [
    "@torch.no_grad()\n",
    "def accuracy(logits, targets):\n",
    "    \"\"\"\n",
    "    Compute the accuracy for given logits and targets.\n",
    "    \n",
    "    Parameters\n",
    "    ----------\n",
    "    logits : (N, K) torch.Tensor\n",
    "        A mini-batch of logit vectors from the network.\n",
    "    targets : (N, ) torch.Tensor\n",
    "        A mini_batch of target scalars representing the labels.\n",
    "        \n",
    "    Returns\n",
    "    -------\n",
    "    acc : () torch.Tensor\n",
    "        The accuracy over the mini-batch of samples.\n",
    "    \"\"\"\n",
    "    value,ind_pred = torch.max(logits.data,1)\n",
    "    return (ind_pred == targets).sum().item()/len(targets)\n",
    "\n",
    "\n",
    "\n",
    "\n",
    "cifar10_test = torchvision.datasets.CIFAR10(\"~/.pytorch\", transform = normalise, download = True,train = False)\n",
    "samples_test = DataLoader(cifar10_test, batch_size=32,num_workers = 2,pin_memory=True,shuffle = True)\n"
   ]
  },
  {
   "cell_type": "code",
   "execution_count": 13,
   "metadata": {},
   "outputs": [
    {
     "data": {
      "text/plain": [
       "0.6642372204472844"
      ]
     },
     "execution_count": 13,
     "metadata": {},
     "output_type": "execute_result"
    }
   ],
   "source": [
    "test_acc = []\n",
    "for i, (x,y) in enumerate(samples_test):\n",
    "    x = x.to(device)\n",
    "    y = y.to(device)\n",
    "    pred = network.forward(x)\n",
    "    res = accuracy(pred,y)\n",
    "    test_acc.append(res)\n",
    "    \n",
    "sum(test_acc)/len(test_acc)"
   ]
  },
  {
   "cell_type": "markdown",
   "metadata": {
    "pycharm": {
     "name": "#%% md\n"
    }
   },
   "source": [
    "## Skip-connections\n",
    "\n",
    "One of the most popular modern network architectures for vision is the residual network.\n",
    "The main feature of this architecture is the so-called skip-connection,\n",
    "which allows to combine the activations with the original inputs in each layer.\n",
    "Since these skip-connections open up a gradient highway,\n",
    "they make it possible to train much deeper networks than is possible without the skip-connections.\n",
    "\n",
    "Mathematically, the simplest form of a skip connection can be written as\n",
    "$$\\boldsymbol{s} = \\boldsymbol{x} + f(\\boldsymbol{x}).$$\n",
    "In order for this to work, the dimensions of $\\boldsymbol{x}$ and $f(\\boldsymbol{x})$ must line up.\n",
    "This means that in this formulation, only square layers,\n",
    "i.e. layers with the same number of inputs and outputs, are possible.\n",
    "\n",
    "In order to use a skip-connection on layers that reduce the dimensionality,\n",
    "a linear transform on $\\boldsymbol{x}$ can be inserted in the equation.\n",
    "Since also other operations are possible, on both inputs and (pre-)activations, \n",
    "we can generalise the skip-connection formula to\n",
    "$$\\boldsymbol{s} = \\boldsymbol{C} \\cdot \\boldsymbol{x} + \\boldsymbol{T} \\cdot f(\\boldsymbol{x}),$$\n",
    "where $\\boldsymbol{C}$ and $\\boldsymbol{T}$ are linear transformations (a.k.a. matrices)."
   ]
  },
  {
   "cell_type": "markdown",
   "metadata": {
    "pycharm": {
     "name": "#%% md\n"
    }
   },
   "source": [
    "### Task 6: Highway Networks\n",
    "\n",
    "Given the general skip-connection formula above,\n",
    "residual networks can be thought of as a special case of highway networks.\n",
    "The layers in a highway network use the following expression to build the gradient highway:\n",
    "$$\\boldsymbol{a} = c(\\boldsymbol{x}) \\odot \\boldsymbol{x} + t(\\boldsymbol{x}) \\odot f(\\boldsymbol{x}),$$\n",
    "where $f$ is the regular transform that computes activations from the inputs\n",
    "and $c$ and $t$ are gates, i.e. layers that have activations in $[0, 1]$ (cf. LSTMs). \n",
    "The gates control how much of the inputs, resp. outputs is to be used.\n",
    "Especially interesting is the case where $c(\\boldsymbol{x}) = 1 - t(\\boldsymbol{x})$, \n",
    "since this forces each neuron in the model to *choose* between inputs and activations and requires less weights.\n",
    "\n",
    " > Implement the `HighwayLayer` class to represent a layer in a highway network.\n",
    " > Use fully connected layers with reasonable activation functions for $f$, $t$ and $c$.\n",
    " > Make sure that it is possible to construct non-square layers and to use all keywordarguments."
   ]
  },
  {
   "cell_type": "code",
   "execution_count": 14,
   "metadata": {
    "pycharm": {
     "name": "#%%\n"
    }
   },
   "outputs": [],
   "source": [
    "class HighwayLayer(nn.Module):\n",
    "    \"\"\" Fully connected layer in a highway network. \"\"\"\n",
    "    \n",
    "    def __init__(self, in_features: int, out_features: int,\n",
    "                 carry: bool = False, act:callable = torch.tanh):\n",
    "        \"\"\"\n",
    "        Parameters\n",
    "        ----------\n",
    "        in_features : int\n",
    "            Number of input dimensions.\n",
    "        out_features : int\n",
    "            Number of output dimensions.\n",
    "        carry : bool\n",
    "            Whether or not to use a separate carry gate.\n",
    "        act : callable\n",
    "            Activation function to use.\n",
    "        \"\"\"\n",
    "        super(HighwayLayer,self).__init__()\n",
    "        self.in_features = in_features\n",
    "        self.out_features = out_features\n",
    "        \n",
    "        \n",
    "        self.linear_layer_f = nn.Linear(in_features,out_features)\n",
    "        self.linear_layer_c = nn.Linear(in_features,out_features)\n",
    "        self.linear_layer_t =  nn.Linear(in_features,out_features)\n",
    "        \n",
    "        self.carry = carry\n",
    "        \n",
    "        self.act = act\n",
    "        self.act_c = torch.sigmoid\n",
    "        self.act_t = torch.sigmoid\n",
    "        \n",
    "        #Change dimension in order to add the input\n",
    "        self.identity_tens = nn.Linear(in_features,out_features,bias = False)\n",
    "        if self.in_features == self.out_features:\n",
    "            self.identity_tens.requires_grad = False\n",
    "        \n",
    "    def forward(self,x):\n",
    "        if self.carry:\n",
    "            f_layer = self.linear_layer_f(x)\n",
    "            f_layer = self.act(f_layer)\n",
    "            \n",
    "            c_layer = self.linear_layer_c(x)\n",
    "            c_layer = self.act_c(c_layer)\n",
    "            \n",
    "            t_layer = self.linear_layer_t(x)\n",
    "            t_layer = self.act_t(t_layer)\n",
    "            \n",
    "            if self.in_features != self.out_features:\n",
    "                x = self.identity_tens(x)\n",
    "                \n",
    "            \n",
    "                    \n",
    "            res = c_layer * x + t_layer * f_layer\n",
    "            return res\n",
    "            \n",
    "        else:\n",
    "            f_layer = self.linear_layer_f(x)\n",
    "            f_layer = self.act(f_layer)\n",
    "            \n",
    "            t_layer = self.linear_layer_t(x)\n",
    "            t_layer = self.act_t(t_layer)\n",
    "                   \n",
    "            c_layer = 1 - t_layer\n",
    "            \n",
    "            if self.in_features != self.out_features:\n",
    "                x = self.identity_tens(x) \n",
    "            \n",
    "            res = c_layer * x + t_layer * f_layer\n",
    "            return res\n",
    "        "
   ]
  },
  {
   "cell_type": "code",
   "execution_count": 15,
   "metadata": {},
   "outputs": [
    {
     "data": {
      "text/plain": [
       "40300"
      ]
     },
     "execution_count": 15,
     "metadata": {},
     "output_type": "execute_result"
    }
   ],
   "source": [
    "# sanity check 1\n",
    "highway = HighwayLayer(100, 100, carry = False, act = torch.tanh)\n",
    "highway(torch.randn(1, 100))\n",
    "sum([par.numel() for par in highway.parameters()])"
   ]
  },
  {
   "cell_type": "code",
   "execution_count": 16,
   "metadata": {},
   "outputs": [
    {
     "data": {
      "text/plain": [
       "40030"
      ]
     },
     "execution_count": 16,
     "metadata": {},
     "output_type": "execute_result"
    }
   ],
   "source": [
    "# sanity check 2\n",
    "highway = HighwayLayer(1000, 10,carry = False, act = torch.tanh)\n",
    "highway(torch.randn(1, 1000))\n",
    "sum([par.numel() for par in highway.parameters()])"
   ]
  }
 ],
 "metadata": {
  "kernelspec": {
   "display_name": "Python 3.9.12 ('base')",
   "language": "python",
   "name": "python3"
  },
  "language_info": {
   "codemirror_mode": {
    "name": "ipython",
    "version": 3
   },
   "file_extension": ".py",
   "mimetype": "text/x-python",
   "name": "python",
   "nbconvert_exporter": "python",
   "pygments_lexer": "ipython3",
   "version": "3.9.12"
  },
  "vscode": {
   "interpreter": {
    "hash": "40d3a090f54c6569ab1632332b64b2c03c39dcf918b08424e98f38b5ae0af88f"
   }
  }
 },
 "nbformat": 4,
 "nbformat_minor": 1
}
