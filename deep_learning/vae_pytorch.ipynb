{
 "cells": [
  {
   "attachments": {},
   "cell_type": "markdown",
   "metadata": {},
   "source": [
    "# Variational Auto-Encoders"
   ]
  },
  {
   "attachments": {},
   "cell_type": "markdown",
   "metadata": {},
   "source": [
    "In this notebook, the goal is to generate new images using auto-encoders.\n",
    "The focus lies mainly on variational auto-encoders\n",
    "and how they differ from the classic auto-encoders."
   ]
  },
  {
   "cell_type": "code",
   "execution_count": 1,
   "metadata": {
    "pycharm": {
     "name": "#%%\n"
    }
   },
   "outputs": [
    {
     "name": "stdout",
     "output_type": "stream",
     "text": [
      "cpu\n",
      "Python version: 3.9.12\n",
      "Pytorch version: 1.13.0\n",
      "torchvision version: 0.14.0\n",
      "numpy version: 1.21.5\n"
     ]
    }
   ],
   "source": [
    "import os\n",
    "\n",
    "import torch\n",
    "import numpy as np\n",
    "import torchvision\n",
    "from torch import optim\n",
    "from torch import nn\n",
    "from torch.utils.data import DataLoader, Subset\n",
    "from torchvision import datasets\n",
    "from torchvision import transforms\n",
    "from PIL import Image\n",
    "\n",
    "torch.manual_seed(1806)\n",
    "torch.cuda.manual_seed(1806)\n",
    "device = 'cuda' if torch.cuda.is_available() else 'cpu'\n",
    "print(device)\n",
    "\n",
    "\n",
    "print('Python version: 3.9.12')\n",
    "print('Pytorch version:', torch.__version__)\n",
    "print('torchvision version:', torchvision.__version__)\n",
    "print('numpy version:', np.__version__)"
   ]
  },
  {
   "cell_type": "code",
   "execution_count": 13,
   "metadata": {},
   "outputs": [],
   "source": [
    "class AutoMNIST(datasets.MNIST):\n",
    "    \"\"\" Wrapper around MNIST for training auto-encoders. \"\"\"\n",
    "    \n",
    "    def __getitem__(self, index):\n",
    "        x = self.data[index].numpy()\n",
    "        img = Image.fromarray(x, mode='L')\n",
    "        target = Image.fromarray(x, mode='L')\n",
    "\n",
    "        if self.transform is not None:\n",
    "            img = self.transform(img)\n",
    "\n",
    "        if self.target_transform is not None:\n",
    "            target = self.target_transform(target)\n",
    "\n",
    "        return img, target\n",
    "\n",
    "    @property\n",
    "    def raw_folder(self):\n",
    "        return os.path.join(self.root, 'MNIST', 'raw')\n",
    "\n",
    "    @property\n",
    "    def processed_folder(self):\n",
    "        return os.path.join(self.root, 'MNIST', 'processed')\n",
    "    \n",
    "    def get_subset_with_label(self, label: int):\n",
    "        indices = [i for i in range(len(self)) if self.targets[i] == label]\n",
    "        return Subset(self, indices)\n",
    "\n",
    "\n",
    "def get_auto_mnist_loader(train: bool = True, flat: bool = False, \n",
    "                          raw_targets: bool = False,download = False, **kwargs) -> DataLoader:\n",
    "    \"\"\"\n",
    "    Construct a data loader for training auto-encoders on MNIST.\n",
    "    \n",
    "    Parameters\n",
    "    ----------\n",
    "    train : bool, optional\n",
    "        If `True`, use the MNIST training data, \n",
    "        otherwise use the test data.\n",
    "    flat : bool, optional\n",
    "        If `True`, the images is flattened in pre-processing.\n",
    "    raw_targets : bool, optional\n",
    "        If `True`, the target values are not normalised,\n",
    "        otherwise (the default), they are normalised\n",
    "        in the same way as the inputs are.\n",
    "    kwargs\n",
    "        Additional keyword arguments for data loader.\n",
    "        E.g. batch_size, shuffle, num_workers, ...\n",
    "\n",
    "    Returns\n",
    "    -------\n",
    "    loader : DataLoader\n",
    "        A data loader that iterates over the MNIST data,\n",
    "        where the inputs are properly normalised images\n",
    "        and the targets are either the raw images with pixels in [0, 1]\n",
    "        or equivalent to the inputs, depending on `raw_targets`.\n",
    "    \"\"\"\n",
    "    to_tensor = transforms.ToTensor()\n",
    "    normalise = transforms.Compose([\n",
    "        to_tensor, transforms.Normalize((.1307, ), (.3081, ))\n",
    "    ])\n",
    "    \n",
    "    if flat:\n",
    "        flatten = nn.Flatten(start_dim=0)\n",
    "        to_tensor = transforms.Compose([to_tensor, flatten])\n",
    "        normalise.transforms.append(flatten)\n",
    "    \n",
    "    _transforms = {\n",
    "        'transform': normalise,\n",
    "        'target_transform': to_tensor if raw_targets else normalise\n",
    "    }\n",
    "    \n",
    "    data = AutoMNIST(\"~/.pytorch\", train=train, download = download, **_transforms)\n",
    "    loader = DataLoader(data, **kwargs)\n",
    "    return loader"
   ]
  },
  {
   "cell_type": "code",
   "execution_count": 14,
   "metadata": {},
   "outputs": [],
   "source": [
    "def data_to_image(*data: torch.Tensor, \n",
    "                  means: tuple = (0, ), stds: tuple = (1., )) -> Image:\n",
    "    \"\"\"\n",
    "    Convert multiple tensors to one big image.\n",
    "    \n",
    "    Parameters\n",
    "    ----------\n",
    "    data0, data1, ... dataN : torch.Tensor\n",
    "        One or more tensors to be merged into a single image.\n",
    "    means : tuple or torch.Tensor, optional\n",
    "        Original mean of the image before normalisation.\n",
    "    stds : tuple or torch.Tensor, optional\n",
    "        Original standard deviation of the image before normalisation.\n",
    "\n",
    "    Returns\n",
    "    -------\n",
    "    image : Image\n",
    "        PIL image with all of the tensors next to each other.\n",
    "    \"\"\"\n",
    "    # concatenate all data\n",
    "    big_pic = torch.cat([x for x in data], dim=-1)\n",
    "    \n",
    "    means = torch.tensor(means)\n",
    "    stds = torch.tensor(stds)\n",
    "    to_image = transforms.Compose([\n",
    "        # inverts normalisation of image\n",
    "        transforms.Normalize(-means / stds, 1. / stds),\n",
    "        transforms.Lambda(lambda x: torch.clamp(x, 0, 1)),\n",
    "        transforms.ToPILImage()\n",
    "    ])\n",
    "    \n",
    "    return to_image(big_pic)\n",
    "\n",
    "\n",
    "def display_result(auto_encoder: nn.Module, xs: torch.Tensor, count: int = 10):\n",
    "    \"\"\"\n",
    "    Visualise a number of reconstructions from an auto-encoder.\n",
    "    \n",
    "    Parameters\n",
    "    ----------\n",
    "    auto_encoder : nn.Module\n",
    "        The auto-encoder to visualise reconstructions for.\n",
    "    xs : torch.Tensor\n",
    "        Batch of images to be reconstructed.\n",
    "        The batch is assumed to have the correct shape\n",
    "        for feeding it to the network.\n",
    "    count : int, optional\n",
    "        Number of samples in the batch to visualise.\n",
    "\n",
    "    \"\"\"\n",
    "    xs = xs[:count]\n",
    "    model_dev = next(auto_encoder.parameters()).device\n",
    "    # get reconstructions\n",
    "    preds = auto_encoder.reconstruct(xs.to(model_dev)).cpu()\n",
    "    if preds.min() < 0:\n",
    "        preds = preds * .3081 + .1307    # unnormalise\n",
    "    \n",
    "    # convert to images\n",
    "    xs = xs.view(-1, 1, 28, 28)  # unflatten\n",
    "    x_im = data_to_image(*xs, means=(.1307, ), stds=(.3081, ))\n",
    "    preds = preds.view(-1, 1, 28, 28)\n",
    "    res_im = data_to_image(*preds)\n",
    "    \n",
    "    # paste together\n",
    "    im = Image.new('L', (len(xs) * 28, 56))\n",
    "    im.paste(x_im, (0, 0))\n",
    "    im.paste(res_im, (0, 28))\n",
    "    display(im, metadata={'width': '100%'})"
   ]
  },
  {
   "cell_type": "code",
   "execution_count": 4,
   "metadata": {},
   "outputs": [],
   "source": [
    "class RegularisedLoss(nn.Module):\n",
    "    \"\"\"\n",
    "    Loss function for networks that expose state for regularisation.\n",
    "\n",
    "    Examples\n",
    "    --------\n",
    "    To train an auto-encoder with some norm-regularisation (untested):\n",
    "    >>> ae = AutoEncoder(784)\n",
    "    >>> mse = RegularisedLoss(nn.MSELoss(), torch.norm)\n",
    "    >>> x = torch.randn(1, 784)\n",
    "    >>> logits, code = ae.forward(x)\n",
    "    >>> mse((logits, code), x)\n",
    "    \"\"\"\n",
    "    \n",
    "    def __init__(self, loss_func: nn.Module = None, reg_func: nn.Module = None,\n",
    "                 weight: float = 1.):\n",
    "        \"\"\"\n",
    "        Parameters\n",
    "        ----------\n",
    "        loss_func : nn.Module\n",
    "            Standard loss function computed from logits and targets.\n",
    "        reg_func : nn.Module, optional\n",
    "            Regularisation function computed from exposed network state.\n",
    "        weight : float, optional\n",
    "            Weighting factor for the regularisation.\n",
    "        \"\"\"\n",
    "        super().__init__()\n",
    "        self.loss_func = loss_func\n",
    "        self.regulariser = reg_func\n",
    "        self.weight = weight\n",
    "        self._regularisation_cache = []\n",
    "        \n",
    "    def split_loss(self, total_loss):\n",
    "        \"\"\"\n",
    "        Split total loss values in original loss and regularisation part.\n",
    "\n",
    "        Parameters\n",
    "        ----------\n",
    "        total_loss : list or float\n",
    "            One or more loss values computed with this function.\n",
    "\n",
    "        Returns\n",
    "        -------\n",
    "        orig_loss : Tensor\n",
    "            One ore more loss values from the original part of the loss.\n",
    "        reg_loss : Tensor\n",
    "            One or more loss values from the regularsiation part of the loss.\n",
    "        \"\"\"\n",
    "        if len(self._regularisation_cache) == 0:\n",
    "            raise ValueError(\"no regularisation loss founc, make sure to call forward first\")\n",
    "            \n",
    "        _totals = torch.tensor(total_loss)\n",
    "        reg_loss = torch.tensor(self._regularisation_cache[-_totals.numel():])\n",
    "        orig_loss = _totals - reg_loss\n",
    "        return orig_loss, reg_loss\n",
    "        \n",
    "    def forward(self, outputs, y):\n",
    "        \"\"\"\n",
    "        Parameters\n",
    "        ----------\n",
    "        outputs : (Tensor, Tensor)\n",
    "            Tuple consisting of logits and exposed state.\n",
    "        y : Tensor\n",
    "            Targets for the original loss part.\n",
    "        \"\"\"\n",
    "        logits, state = outputs\n",
    "        loss = self.loss_func(logits, y)\n",
    "        \n",
    "        if self.regulariser is not None:\n",
    "            reg_loss = self.weight * self.regulariser(state)\n",
    "            self._regularisation_cache.append(reg_loss.item())\n",
    "            loss = loss + reg_loss\n",
    "        \n",
    "        return loss"
   ]
  },
  {
   "cell_type": "code",
   "execution_count": 5,
   "metadata": {
    "pycharm": {
     "name": "#%%\n"
    }
   },
   "outputs": [],
   "source": [
    "def _forward(network: nn.Module, data: DataLoader, metric: callable):\n",
    "    device = next(network.parameters()).device\n",
    "    \n",
    "    for x, y in data:\n",
    "        x, y = x.to(device), y.to(device)\n",
    "        outputs = network(x)\n",
    "        res = metric(outputs, y)\n",
    "        yield res\n",
    "\n",
    "@torch.no_grad()\n",
    "def evaluate(network: nn.Module, data: DataLoader, metric: callable) -> list:\n",
    "    network.eval()\n",
    "\n",
    "    results = _forward(network, data, metric)\n",
    "    return [res.item() for res in results]\n",
    "\n",
    "\n",
    "@torch.enable_grad()\n",
    "def update(network: nn.Module, data: DataLoader, loss: nn.Module,\n",
    "           opt: optim.Optimizer, regulariser: nn.Module = None) -> list:\n",
    "    network.train()\n",
    "\n",
    "    errs = []\n",
    "    for err in _forward(network, data, loss):\n",
    "        errs.append(err.item())\n",
    "\n",
    "        opt.zero_grad()\n",
    "        err.backward()\n",
    "        opt.step()\n",
    "\n",
    "    return errs"
   ]
  },
  {
   "cell_type": "code",
   "execution_count": 6,
   "metadata": {
    "pycharm": {
     "name": "#%%\n"
    }
   },
   "outputs": [],
   "source": [
    "def print_errs(epoch: int, errs : list, objective: nn.Module):\n",
    "    \"\"\"\n",
    "    Print error summary for current epoch.\n",
    "\n",
    "    If possible, the loss is additionally decomposed in\n",
    "    reconstruction and regularisation loss.\n",
    "\n",
    "    Parameters\n",
    "    ----------\n",
    "    epoch : int\n",
    "        Rank of the current epoch.\n",
    "    errs : list\n",
    "        The errors to summarise.\n",
    "    objective : nn.Module\n",
    "        The loss function that was used to compute the errors.\n",
    "        In case of a `RegularisedLoss`, this will be used to split\n",
    "        into reconstruction and regularisation parts of the loss.\n",
    "    \"\"\"\n",
    "    print(f\"Epoch {epoch: 2d} - avg loss: {sum(errs) / len(errs):.6f}\", end=' ')\n",
    "    try:\n",
    "        rec_errs, reg_errs = objective.split_loss(errs)\n",
    "        print(f\"(rec: {sum(rec_errs) / len(errs):.4f}, reg: {sum(reg_errs) / len(errs):.4f})\")\n",
    "    except (AttributeError, ValueError):\n",
    "        print()\n",
    "\n",
    "        \n",
    "def log_results(epoch: int, ae : nn.Module, vis_every: int):\n",
    "    \"\"\"\n",
    "    Sporadically visualise results.\n",
    "\n",
    "    Parameters\n",
    "    ----------\n",
    "    epoch : int\n",
    "        Rank of the current epoch.\n",
    "    ae : nn.Module\n",
    "        The auto_encoder to log distributions for.\n",
    "    vis_every : int\n",
    "        Frequency of visualising the reconstructions\n",
    "        and logging embeddings to tensorboard.\n",
    "    \"\"\"\n",
    "    dev = next(ae.parameters()).device\n",
    "    with torch.no_grad():\n",
    "        ref_inputs = torch.stack([loader.dataset[i][0] for i in range(64)])\n",
    "        z = ae.encode(ref_inputs.to(dev))\n",
    "\n",
    "    if epoch % vis_every == 0:\n",
    "        display_result(ae, ref_inputs)\n",
    "        ref_labels = [str(label.item()) for label in loader.dataset.targets[:64]]\n",
    "        ref_images = 1. - loader.dataset.data[:64].unsqueeze(1)\n",
    "\n",
    "\n",
    "def train_auto_encoder(auto_encoder: nn.Module, loader: DataLoader,\n",
    "                       objective: nn.Module, optimiser: optim.Optimizer,\n",
    "                       num_epochs: int = 10, vis_every: int = 5):\n",
    "    \"\"\"\n",
    "    Train an auto-encoder for a number of epochs.\n",
    "\n",
    "    Parameters\n",
    "    ----------\n",
    "    auto_encoder : nn.Module\n",
    "        The auto-encoder to train\n",
    "    loader : DataLoader\n",
    "        A data loader for iterating over batches of the data.\n",
    "    objective : nn.Module\n",
    "        The loss function to optimise during training.\n",
    "    optimiser : optim.Optimizer\n",
    "        The optimiser to use for training.\n",
    "    num_epochs : int, optional\n",
    "        Number of times to iterate the dataset.\n",
    "    vis_every : int, optional\n",
    "        Frequency, during training, of\n",
    "        intermediate visualisation of reconstructions.\n",
    "    \"\"\"\n",
    "    # evaluate random performance\n",
    "    errs = evaluate(auto_encoder, loader, objective)\n",
    "    print_errs(0, errs, objective)\n",
    "    log_results(0, auto_encoder, vis_every)\n",
    "\n",
    "    # train for some epochs\n",
    "    for i in range(1, num_epochs + 1):\n",
    "        errs = update(auto_encoder, loader, objective, optimiser)\n",
    "        print_errs(i, errs, objective)\n",
    "        log_results(i, auto_encoder, vis_every)"
   ]
  },
  {
   "cell_type": "markdown",
   "metadata": {
    "pycharm": {
     "name": "#%% md\n"
    }
   },
   "source": [
    "## Variational Auto-Encoders\n",
    "\n",
    "Variational auto-encoders (VAEs) extend auto-encoders in a probabilistic way.\n",
    "Although this might sound complicated, it only requires a few modifications to make an auto-encoder variational.\n",
    "First of all, the latent space is regularised to stay close to a (standard normal) distribution.\n",
    "Secondly, VAEs do not produce specific codes, but rather a distribution of codes.\n",
    "In practice this is done by directly mapping inputs to the parameters of a distribution.\n",
    "\n",
    "The main advantage of this approach, is that the the distribution of the latent codes remains well under control.\n",
    "As a result, we can sample from this latent distribution and decode these sampled codes to generate new data."
   ]
  },
  {
   "attachments": {},
   "cell_type": "markdown",
   "metadata": {
    "pycharm": {
     "name": "#%% md\n"
    }
   },
   "source": [
    "### Task 1: VAE Architecture\n",
    "\n",
    "VAEs predict the distribution parameters of the latent space,\n",
    "rather than a specific code in the latent space.\n",
    "In the case of a Gaussian latent distribution, \n",
    "this means that the encoder produces a mean and log-variance for every input sample.\n",
    "By predicting the log-variance, the variance is guaranteed to be positive.\n",
    "\n",
    "Because the codes of a VAE are distributions, it is not possible to directly decode them back to images.\n",
    "Instead, specific codes have to be sampled from the latent distribution before decoding.\n",
    "This is the only real difference, architecturally, between AEs and VAEs.\n",
    "\n",
    " > Implement the `VariationalAutoEncoder` class.\n",
    " > The `sample` method should sample a latent vector from a Gaussian with given mean and log-variance. \n",
    " > Note that the `sample` function for a VAE must be differentiable!\n",
    " > The `generate` method should allow to create one or more new images, given a mean in the latent space."
   ]
  },
  {
   "cell_type": "code",
   "execution_count": 7,
   "metadata": {},
   "outputs": [],
   "source": [
    "class VariationalAutoEncoder(nn.Module):\n",
    "    \"\"\" Fully connected auto-encoder. \"\"\"\n",
    "\n",
    "    def __init__(self, in_features: int, code_features: int = 20, \n",
    "                 hidden_features: int = 400):\n",
    "        super().__init__()\n",
    "        self.in_features = in_features\n",
    "        self.code_features = code_features\n",
    "        \n",
    "        self.encoder_1 = torch.nn.Linear(in_features,hidden_features)\n",
    "        self.encoder_mean = torch.nn.Linear(hidden_features,code_features)\n",
    "        self.encoder_var = torch.nn.Linear(hidden_features,code_features)\n",
    "        \n",
    "        self.decoder_1 = torch.nn.Linear(code_features,hidden_features)\n",
    "        self.decoder_2 = torch.nn.Linear(hidden_features,in_features)\n",
    "\n",
    "        \n",
    "    def sample(self, mean: torch.Tensor, log_var: torch.Tensor):\n",
    "        \"\"\"\n",
    "        Sample randomly from the latent space in a differentiable manner.\n",
    "\n",
    "        Parameters\n",
    "        ----------\n",
    "        mean : (N, code_featuers) Tensor\n",
    "            Mean(s) for sampling new images.\n",
    "        log_var : (N, code_features) Tensor\n",
    "            Logarithm of variance(s) for sampling new images.\n",
    "\n",
    "        Returns\n",
    "        -------\n",
    "        sample : (N, code_features) Tensor\n",
    "            The randomly generated sample in latent space.\n",
    "        \"\"\"\n",
    "        norm_distr = torch.distributions.multivariate_normal.MultivariateNormal(torch.zeros(self.code_features), torch.eye(self.code_features))\n",
    "        eps = norm_distr.sample()\n",
    "        std_norm = torch.exp(0.5 * log_var)\n",
    "        \n",
    "        z = mean + std_norm * eps\n",
    "        return z\n",
    "        \n",
    "        \n",
    "    def forward(self, x):\n",
    "        #Encoder\n",
    "        x = self.encoder_1(x)\n",
    "        x = nn.ReLU()(x)\n",
    "        x_mean = self.encoder_mean(x)\n",
    "        x_logvar = self.encoder_var(x)\n",
    "        \n",
    "        #Latent distribution\n",
    "        z = self.sample(x_mean,x_logvar)\n",
    "        \n",
    "        #Decoder\n",
    "        x = self.decoder_1(z)\n",
    "        x = nn.ReLU()(x)\n",
    "        x = self.decoder_2(x)\n",
    "        return x,(x_mean,x_logvar)\n",
    "        \n",
    "        \n",
    "    \n",
    "    @torch.no_grad()\n",
    "    def generate(self, mean: torch.Tensor, log_var: torch.Tensor = 0.,\n",
    "                 batch_size: int = 1) -> torch.Tensor:\n",
    "        \"\"\"\n",
    "        Generate one or more new images.\n",
    "\n",
    "        Parameters\n",
    "        ----------\n",
    "        mean : (N, code_features) Tensor\n",
    "            Mean in latent space for generating images.\n",
    "        log_var : (N, code_features) Tensor, optional\n",
    "            Logarithm of variance(s) in latent space for generating images.\n",
    "            \n",
    "        Returns\n",
    "        -------\n",
    "        img : (N, in_features) Tensor\n",
    "            Proper image with the same dimensions as the inputs.\n",
    "\n",
    "        See Also\n",
    "        --------\n",
    "        `sample(mean, log_var)` : sample randomly in latent space.\n",
    "        \"\"\"\n",
    "        #latent vector z\n",
    "        log_var = torch.as_tensor(log_var)\n",
    "        z = self.sample(mean,log_var)\n",
    "        \n",
    "        #decoder\n",
    "        x = self.decoder_1(z)\n",
    "        x = nn.ReLU()(x)\n",
    "        x = self.decoder_2(x)\n",
    "        return x\n",
    "        \n",
    "\n",
    "    @torch.no_grad()\n",
    "    def reconstruct(self, x: torch.Tensor) -> torch.Tensor:\n",
    "        \"\"\" Properly reconstruct some inputs. \"\"\"\n",
    "        x = self.encoder_1(x)\n",
    "        x = nn.ReLU()(x)\n",
    "        mean = self.encoder_mean(x)\n",
    "        log_var = self.encoder_var(x)\n",
    "        \n",
    "        \n",
    "        return self.generate(mean, log_var)\n",
    "    \n",
    "    \n",
    "    @torch.no_grad()\n",
    "    def encode(self,x:torch.tensor) -> torch.Tensor:\n",
    "        x = self.encoder_1(x)\n",
    "        x = nn.ReLU()(x)\n",
    "        x_mean = self.encoder_mean(x)\n",
    "        x_logvar = self.encoder_var(x)\n",
    "        \n",
    "        return x_mean,x_logvar\n",
    "        "
   ]
  },
  {
   "attachments": {},
   "cell_type": "markdown",
   "metadata": {},
   "source": [
    "### Task 2: VAE Regulariser \n",
    "\n",
    "The other main difference with auto-encoders is the regularisation\n",
    "to keep the latent space close to a standard normal distribution.\n",
    "\n",
    " > Analytically compute the Kullback-Leibler divergence\n",
    " > between a non-standard Gaussian distribution, $\\mathcal{N}(\\mu, \\sigma^2)$,\n",
    " > and the standard normal distribution, $Z = \\mathcal{N}(0, 1)$.\n",
    " > Implement your result in the `gauss_vae_regulariser` function.\n",
    " > Finally, use the `RegularisedLoss` to train the variational auto-encoder \n",
    " > with the regulariser on top of the reconstruction loss. "
   ]
  },
  {
   "cell_type": "markdown",
   "metadata": {
    "pycharm": {
     "name": "#%% md\n"
    }
   },
   "source": [
    "$$\\begin{aligned}\n",
    "  D_\\mathrm{KL}\\big(\\mathcal{N}(\\mu, \\sigma^2) \\mathbin{||} Z = \\mathcal{N}(0, 1)\\big)\n",
    "\\end{aligned}$$\n",
    "\n",
    "probabilty density function of multivariate Normal distribution:\n",
    "\n",
    "$$p(\\mathbf{x}) = \\frac{1}{(2\\pi)^{k/2}|\\Sigma|^{1/2}} \\exp\\left(-\\frac{1}{2}(\\mathbf{x}-\\boldsymbol{\\mu})^T\\Sigma^{-1}(\\mathbf{x}-\\boldsymbol{\\mu})\\right)$$\n",
    "\n",
    "Now, let our two Normal distributions be $\\mathcal{N}(\\boldsymbol{\\mu_p},\\,\\Sigma_p)$ and $\\mathcal{N}(\\boldsymbol{\\mu_q},\\,\\Sigma_q)$\n",
    "\n",
    "\\begin{aligned}\n",
    "D_{KL}(p||q) & = \\mathbb{E}_p\\left[\\log(p) - \\log(q)\\right]\n",
    "\\newline\n",
    "& = \\mathbb{E}_p\\left[\\frac{1}{2}\\log\\frac{|\\Sigma_q|}{|\\Sigma_p|} - \\frac{1}{2}(\\mathbf{x}-\\boldsymbol{\\mu_p})^T\\Sigma_p^{-1}(\\mathbf{x}-\\boldsymbol{\\mu_p}) + \\frac{1}{2}(\\mathbf{x}-\\boldsymbol{\\mu_q})^T\\Sigma_q^{-1}(\\mathbf{x}-\\boldsymbol{\\mu_q})\\right]\n",
    "\\newline\n",
    "& = \\frac{1}{2}\\mathbb{E}_p\\left[\\log\\frac{|\\Sigma_q|}{|\\Sigma_p|}\\right] - \\frac{1}{2}\\mathbb{E}_p\\left[(\\mathbf{x}-\\boldsymbol{\\mu_p})^T\\Sigma_p^{-1}(\\mathbf{x}-\\boldsymbol{\\mu_p})\\right] + \\frac{1}{2}\\mathbb{E}_p\\left[(\\mathbf{x}-\\boldsymbol{\\mu_q})^T\\Sigma_q^{-1}(\\mathbf{x}-\\boldsymbol{\\mu_q})\\right]\n",
    "\\newline\n",
    "& = \\frac{1}{2}\\log\\frac{|\\Sigma_q|}{|\\Sigma_p|} - \\frac{1}{2}\\mathbb{E}_p\\left[(\\mathbf{x}-\\boldsymbol{\\mu_p})^T\\Sigma_p^{-1}(\\mathbf{x}-\\boldsymbol{\\mu_p})\\right] + \\frac{1}{2}\\mathbb{E}_p\\left[(\\mathbf{x}-\\boldsymbol{\\mu_q})^T\\Sigma_q^{-1}(\\mathbf{x}-\\boldsymbol{\\mu_q})\\right] \n",
    "\\end{aligned}\n",
    "\n",
    "\n",
    "**second term:** can be written as $tr\\left\\{(\\mathbf{x}-\\boldsymbol{\\mu_p})^T\\Sigma_p^{-1}(\\mathbf{x}-\\boldsymbol{\\mu_p})\\right\\}$, where $tr$ is a trace. Using trace property it can be rewritten as $tr\\left\\{(\\mathbf{x}-\\boldsymbol{\\mu_p})(\\mathbf{x}-\\boldsymbol{\\mu_p})^T\\Sigma_p^{-1}\\right\\}$\n",
    "\n",
    "\n",
    "**second term:** $ \\frac{1}{2}\\mathbb{E}_p\\left[tr\\left\\{(\\mathbf{x}-\\boldsymbol{\\mu_p})(\\mathbf{x}-\\boldsymbol{\\mu_p})^T\\Sigma_p^{-1}\\right\\}\\right] = \\frac{1}{2}tr\\left\\{\\mathbb{E}_p\\left[(\\mathbf{x}-\\boldsymbol{\\mu_p})(\\mathbf{x}-\\boldsymbol{\\mu_p})^T\\Sigma_p^{-1}\\right]\\right\\} = \\frac{1}{2}tr\\left\\{\\mathbb{E}_p\\left[(\\mathbf{x}-\\boldsymbol{\\mu_p})(\\mathbf{x}-\\boldsymbol{\\mu_p})^T\\right]\\Sigma_p^{-1}\\right\\}$\n",
    "\n",
    "using definition of covariance we get:\n",
    "\n",
    "\\begin{aligned}\n",
    "& = \\frac{1}{2}tr\\left\\{\\Sigma_p\\Sigma_p^{-1}\\right\\}\n",
    "\\newline\n",
    "& = \\frac{1}{2}tr\\left\\{I_k\\right\\}\n",
    "\\newline\n",
    "& = \\frac{k}{2}\n",
    "\\end{aligned}\n",
    "\n",
    "**third term:** $\\mathbb{E}_p\\left[(\\mathbf{x}-\\boldsymbol{\\mu_q})^T\\Sigma_q^{-1}(\\mathbf{x}-\\boldsymbol{\\mu_q})\\right] = (\\boldsymbol{\\mu_p}-\\boldsymbol{\\mu_q})^T\\Sigma_q^{-1}(\\boldsymbol{\\mu_p}-\\boldsymbol{\\mu_q}) + tr\\left\\{\\Sigma_q^{-1}\\Sigma_p\\right\\}$\n",
    "\n",
    "\n",
    "**all together:** $D_{KL}(p||q) = \\frac{1}{2}\\left[\\log\\frac{|\\Sigma_q|}{|\\Sigma_p|} - k + (\\boldsymbol{\\mu_p}-\\boldsymbol{\\mu_q})^T\\Sigma_q^{-1}(\\boldsymbol{\\mu_p}-\\boldsymbol{\\mu_q}) + tr\\left\\{\\Sigma_q^{-1}\\Sigma_p\\right\\}\\right]$\n",
    "\n",
    "\n",
    "**If $q$ is $\\mathcal{N}(0,\\,I)$ then:**\n",
    "\n",
    "$D_{KL}(p||q) = \\frac{1}{2}\\left[\\boldsymbol{\\mu_p}^T\\boldsymbol{\\mu_p} + tr\\left\\{\\Sigma_p\\right\\} - k - \\log|\\Sigma_p|\\right]$\n"
   ]
  },
  {
   "cell_type": "code",
   "execution_count": 8,
   "metadata": {},
   "outputs": [],
   "source": [
    "def gauss_vae_regulariser(parameters):\n",
    "    \"\"\"\n",
    "    Compute the regularisation factor for training a VAE\n",
    "    with a Gaussian latent space.\n",
    "\n",
    "    Parameters\n",
    "    ----------\n",
    "    parameters : (Tensor, Tensor)\n",
    "        Mean and log_var predictions from variational encoder.\n",
    "\n",
    "    Returns\n",
    "    -------\n",
    "    kl_div : Tensor\n",
    "        The Kullback-Leibler divergence between a Gaussian distribution\n",
    "        with the given parameters and the standard normal distribution.\n",
    "    \"\"\"\n",
    "    mean_pred = parameters[0]\n",
    "    log_var_pred = parameters[1]\n",
    "    D_KL = - 0.5 * torch.sum((1 + log_var_pred - torch.exp(log_var_pred) - torch.square(mean_pred)))\n",
    "    return D_KL\n"
   ]
  },
  {
   "cell_type": "code",
   "execution_count": 20,
   "metadata": {
    "pycharm": {
     "name": "#%%\n"
    }
   },
   "outputs": [
    {
     "name": "stdout",
     "output_type": "stream",
     "text": [
      "Epoch  0 - avg loss: 0.698485 (rec: 0.6982, reg: 0.0003)\n"
     ]
    },
    {
     "data": {
      "image/png": "[encoded data removed]",
      "text/plain": [
       "<PIL.Image.Image image mode=L size=280x56 at 0x7FC4A926CFA0>"
      ]
     },
     "metadata": {
      "width": "100%"
     },
     "output_type": "display_data"
    },
    {
     "name": "stdout",
     "output_type": "stream",
     "text": [
      "Epoch  1 - avg loss: 0.143045 (rec: 0.1289, reg: 0.0141)\n",
      "Epoch  2 - avg loss: 0.116881 (rec: 0.1030, reg: 0.0139)\n"
     ]
    },
    {
     "data": {
      "image/png": "[encoded data removed]",
      "text/plain": [
       "<PIL.Image.Image image mode=L size=280x56 at 0x7FC4A926CFA0>"
      ]
     },
     "metadata": {
      "width": "100%"
     },
     "output_type": "display_data"
    },
    {
     "name": "stdout",
     "output_type": "stream",
     "text": [
      "Epoch  3 - avg loss: 0.113071 (rec: 0.0993, reg: 0.0138)\n",
      "Epoch  4 - avg loss: 0.111086 (rec: 0.0973, reg: 0.0137)\n"
     ]
    },
    {
     "data": {
      "image/png": "[encoded data removed]",
      "text/plain": [
       "<PIL.Image.Image image mode=L size=280x56 at 0x7FC4A926CFA0>"
      ]
     },
     "metadata": {
      "width": "100%"
     },
     "output_type": "display_data"
    }
   ],
   "source": [
    "loader = get_auto_mnist_loader(flat=True, raw_targets=True, batch_size=32, shuffle=True, num_workers=0,download = True)\n",
    "var_ae = VariationalAutoEncoder(784).to(device)\n",
    "adam = optim.Adam(var_ae.parameters())\n",
    "bce = RegularisedLoss(nn.BCEWithLogitsLoss(), gauss_vae_regulariser, weight= 1e-5)#nn.BCEWithLogitsLoss()  nn.MSELoss()\n",
    "train_auto_encoder(var_ae, loader, bce, adam,num_epochs = 4, vis_every = 2)"
   ]
  },
  {
   "cell_type": "code",
   "execution_count": 21,
   "metadata": {},
   "outputs": [
    {
     "data": {
      "image/png": "[encoded data removed]",
      "text/plain": [
       "<PIL.Image.Image image mode=L size=196x28 at 0x7FC4986BD850>"
      ]
     },
     "metadata": {
      "width": "100%"
     },
     "output_type": "display_data"
    },
    {
     "data": {
      "image/png": "[encoded data removed]",
      "text/plain": [
       "<PIL.Image.Image image mode=L size=196x28 at 0x7FC4988DD9D0>"
      ]
     },
     "metadata": {
      "width": "100%"
     },
     "output_type": "display_data"
    }
   ],
   "source": [
    "# sanity check: generating new images\n",
    "var_ae.cpu()\n",
    "five_orig = 1 - loader.dataset.data[0].float().unsqueeze(0)\n",
    "five_mean, five_log_var = var_ae.encode(loader.dataset[0][0])\n",
    "five_recon = 1 - var_ae.generate(five_mean, five_log_var).view(1, 28, 28)\n",
    "five_new = var_ae.generate(five_mean.expand(5, -1), five_log_var.expand(5, -1)).view(-1, 1, 28, 28)\n",
    "\n",
    "im = data_to_image(five_orig, five_recon, *five_new)\n",
    "display(im, metadata={'width': '100%'})\n",
    "\n",
    "rand_new = var_ae.generate(torch.randn(7, var_ae.code_features)).view(-1, 1, 28, 28)\n",
    "im = data_to_image(*rand_new)\n",
    "display(im, metadata={'width': '100%'})"
   ]
  },
  {
   "attachments": {},
   "cell_type": "markdown",
   "metadata": {
    "pycharm": {
     "name": "#%% md\n"
    }
   },
   "source": [
    "### Task 3: Control of Generation\n",
    "\n",
    "One of the main virtues of VAEs is that they can be very effective\n",
    "in manipulating existing images to create variations of these images.\n",
    "E.g. non-trivial interpolation or transformations of images\n",
    "can easily be done by doing some arithmetic in the latent space.\n",
    "\n",
    " > Use a VAE to implement the generative functions below.\n",
    " > The `interpolate` function should be able to generate images\n",
    " > that are *visually between* two given images.\n",
    " > The `transform` function takes two reference images\n",
    " > that *describe* some sort of transformation\n",
    " > together with an image that should be transformed in the same way."
   ]
  },
  {
   "cell_type": "code",
   "execution_count": 22,
   "metadata": {},
   "outputs": [],
   "source": [
    "def interpolate(vae: nn.Module, start_x: torch.Tensor, stop_x: torch.Tensor, \n",
    "                count: int = 1) -> torch.Tensor:\n",
    "    \"\"\"\n",
    "    Generate interpolating images with a VAE.\n",
    "\n",
    "    Parameters\n",
    "    ----------\n",
    "    vae : nn.Module\n",
    "        The variational auto-encoder.\n",
    "        The module should have an `encode` and `generate` function.\n",
    "    start_x : (1, in_shape) torch.Tensor\n",
    "        The image to start interpolation from.\n",
    "    stop_x : (1, in_shape) torch.Tensor\n",
    "        The image to stop interpolation at.\n",
    "    count : int, optional\n",
    "        The number of images to generate between the original images.\n",
    "\n",
    "    Returns\n",
    "    -------\n",
    "    interpolated : (`count + 2`, out_shape) torch.Tensor\n",
    "        The interpolated images together with the original reconstructions.\n",
    "    \"\"\"\n",
    "    images = [start_x]\n",
    "    \n",
    "    alphas = np.linspace(0,1,count + 2)\n",
    "    alphas = alphas[1:len(alphas) - 1]\n",
    "    \n",
    "    start_mean,start_var = vae.encode(start_x)\n",
    "    stop_mean,stop_var = vae.encode(stop_x)\n",
    "    \n",
    "    new_means = []\n",
    "    new_vars = []\n",
    "    for a in alphas:\n",
    "        new_means.append(start_mean * (1-a) + stop_mean * a)\n",
    "        new_vars.append(start_var * (1-a) + stop_var * a)\n",
    "        \n",
    "        \n",
    "    for i in range(count):\n",
    "        images.append(vae.generate(new_means[i],new_vars[i]))\n",
    "        \n",
    "    images.append(stop_x)\n",
    "    return torch.cat(images,axis = -1)\n",
    "        \n",
    "        \n",
    "    "
   ]
  },
  {
   "cell_type": "code",
   "execution_count": 23,
   "metadata": {},
   "outputs": [
    {
     "data": {
      "image/png": "[encoded data removed]",
      "text/plain": [
       "<PIL.Image.Image image mode=L size=140x28 at 0x7FC49885DAC0>"
      ]
     },
     "metadata": {
      "width": "100%"
     },
     "output_type": "display_data"
    }
   ],
   "source": [
    "# sanity check\n",
    "thin_zero, wide_zero = 68, 56  # MNIST indices\n",
    "start, _ = loader.dataset[thin_zero]\n",
    "stop, _ = loader.dataset[wide_zero]\n",
    "\n",
    "interpolations = interpolate(var_ae, start.unsqueeze(0), stop.unsqueeze(0), count=3)\n",
    "images = interpolations.view(-1, 1, 28, 28)\n",
    "display(data_to_image(*images), metadata={'width': '100%'})"
   ]
  },
  {
   "cell_type": "code",
   "execution_count": 24,
   "metadata": {},
   "outputs": [],
   "source": [
    "def transform(vae: nn.Module, start_ref: torch.Tensor, stop_ref: torch.Tensor,\n",
    "              x: torch.Tensor) -> torch.Tensor:\n",
    "    \"\"\"\n",
    "    Transform an image based on the transformation between two other images.\n",
    "\n",
    "    Parameters\n",
    "    ----------\n",
    "    vae : nn.Module\n",
    "        The variational auto-encoder.\n",
    "        The module should have an `encode` and `generate` function.\n",
    "    start_ref : (1, in_shape) torch.Tensor\n",
    "        The reference image before the transformation.\n",
    "    stop_ref : (1, in_shape) torch.Tensor\n",
    "        The reference image after the transformation.\n",
    "    x : (N, in_shape) torch.Tensor\n",
    "        The image(s) to transform in the same way as the reference.\n",
    "\n",
    "    Returns\n",
    "    -------\n",
    "    transformed : (N, out_shape) torch.Tensor\n",
    "        The images in `x` transformed according to the reference.\n",
    "    \"\"\"\n",
    "    start_mean,start_var = vae.encode(start_ref)\n",
    "    stop_mean,stop_var = vae.encode(stop_ref)\n",
    "    \n",
    "    diff_mean,diff_var = (stop_mean - start_mean),(stop_var - start_var)\n",
    "    \n",
    "    mean,var = vae.encode(x)\n",
    "    mean += diff_mean\n",
    "    var += diff_var\n",
    "    \n",
    "    x_img = vae.generate(mean,var)\n",
    "    \n",
    "    return x_img\n",
    "    "
   ]
  },
  {
   "cell_type": "code",
   "execution_count": 25,
   "metadata": {
    "scrolled": true
   },
   "outputs": [
    {
     "data": {
      "image/png": "[encoded data removed]",
      "text/plain": [
       "<PIL.Image.Image image mode=L size=280x28 at 0x7FC49885DF70>"
      ]
     },
     "metadata": {
      "width": "100%"
     },
     "output_type": "display_data"
    },
    {
     "data": {
      "image/png": "[encoded data removed]",
      "text/plain": [
       "<PIL.Image.Image image mode=L size=280x28 at 0x7FC4A8547B50>"
      ]
     },
     "metadata": {
      "width": "100%"
     },
     "output_type": "display_data"
    }
   ],
   "source": [
    "# sanity check\n",
    "thin_indices = 1, 14, 76, 44, 2, 35, 18, 84, 144, 22\n",
    "digits = torch.stack([loader.dataset[i][0] for i in thin_indices])\n",
    "ref_im = data_to_image(*digits.view(-1, 1, 28, 28), means=(.1307, ), stds=(.3081, ))\n",
    "display(ref_im, metadata={'width': '100%'})\n",
    "\n",
    "start_ref, _ = loader.dataset[thin_zero]\n",
    "stop_ref, _ = loader.dataset[wide_zero]\n",
    "\n",
    "transformed = transform(var_ae, start_ref.unsqueeze(0), stop_ref.unsqueeze(0), digits)\n",
    "images = transformed.view(-1, 1, 28, 28)\n",
    "display(data_to_image(*images), metadata={'width': '100%'})"
   ]
  }
 ],
 "metadata": {
  "kernelspec": {
   "display_name": "Python 3.9.12 ('base')",
   "language": "python",
   "name": "python3"
  },
  "language_info": {
   "codemirror_mode": {
    "name": "ipython",
    "version": 3
   },
   "file_extension": ".py",
   "mimetype": "text/x-python",
   "name": "python",
   "nbconvert_exporter": "python",
   "pygments_lexer": "ipython3",
   "version": "3.9.12"
  },
  "vscode": {
   "interpreter": {
    "hash": "40d3a090f54c6569ab1632332b64b2c03c39dcf918b08424e98f38b5ae0af88f"
   }
  }
 },
 "nbformat": 4,
 "nbformat_minor": 1
}
